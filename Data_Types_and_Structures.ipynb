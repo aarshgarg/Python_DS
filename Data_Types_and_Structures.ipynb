{
  "nbformat": 4,
  "nbformat_minor": 0,
  "metadata": {
    "colab": {
      "provenance": []
    },
    "kernelspec": {
      "name": "python3",
      "display_name": "Python 3"
    },
    "language_info": {
      "name": "python"
    }
  },
  "cells": [
    {
      "cell_type": "code",
      "execution_count": null,
      "metadata": {
        "id": "VIXZbXgq_4Rc"
      },
      "outputs": [],
      "source": []
    },
    {
      "cell_type": "markdown",
      "source": [
        "Data Types and Structures Questions\n"
      ],
      "metadata": {
        "id": "fIqf7uomJM7v"
      }
    },
    {
      "cell_type": "markdown",
      "source": [
        "Q1. What are data structures, and why are they important?\n",
        "Ans1 A data structure is a way of organizing, storing, and managing data in a computer so it can be used efficiently.\n",
        "Data Structure are important due to their scalabilty,efficiency,Problem Solving\n",
        "\n",
        "Q2. Explain the difference between mutable and immutable data types with examples?\n",
        "Ans2 Mutable Data Types->Objects whose values can be changed/modified after creation. Ex-> List,Set,Dictionary\n",
        "Immutable Data Types->Objects whose values cannot be changed after creation.\n",
        "eg->String,Tuple\n",
        "\n",
        "Q3.What are the main differences between lists and tuples in Python?\n",
        "An3 Lists are mutable, meaning their elements can be changed, added, or removed.\n",
        "Tuples are immutable, meaning once created, their elements cannot be modified.\n",
        "\n",
        "Q4.Describe how dictionaries store data?\n",
        "Ans4 A dictionary stores data in the form of key–value pairs.Internally, Python dictionaries use a hash table.\n",
        "my_dict = {\"name\": \"Aarsh\", \"age\": 22}\n",
        "\n",
        "Q5.Why might you use a set instead of a list in Python?\n",
        "Ans5 A set automatically removes duplicate elements, while a list can contain duplicates.\n",
        "\"e.g\"\n",
        "my_list = [1, 2, 2, 3]\n",
        "my_set = {1, 2, 2, 3}\n",
        "print(my_list)  # [1, 2, 2, 3]\n",
        "print(my_set)   # {1, 2, 3}\n",
        "\n",
        "Q6.What is a string in Python, and how is it different from a list?\n",
        "Ans6 A string is a special kind of sequence (only characters, immutable), while a list is a general-purpose sequence (any data type, mutable).\n",
        "\n",
        "Q7.How do tuples ensure data integrity in Python?\n",
        "Ans7 Once a tuple is created, its elements cannot be modified, added, or removed.This protects the data from accidental changes.\n",
        "e.g\n",
        "my_tuple = (10, 20, 30)\n",
        "# my_tuple[0] = 99 # it will give an error\n",
        "\n",
        "Q8.What is a hash table, and how does it relate to dictionaries in Python?\n",
        "Ans8 A hash table is a data structure that stores data in key–value pairs.\n",
        "It uses a hash function to convert a key into a unique number (hash value), which decides where the value is stored in memory.\n",
        "\n",
        "Q9.Can lists contain different data types in Python?\n",
        "Ans9 In Python, lists can contain elements of different data types because Python lists are heterogeneous containers.\n",
        "my_list = [10, \"Hello\", 3.14, True, [1, 2], (5, 6),3+6j]\n",
        "print(my_list)\n",
        "\n",
        "Q10. Explain why strings are immutable in Python?\n",
        "Ans10 By making them immutable, Python can safely reuse the same string object in memory instead of creating duplicates\n",
        "\n",
        "a = \"hello\"\n",
        "b = \"hello\"\n",
        "print(a is b)\n",
        "\n",
        "Q11.What advantages do dictionaries offer over lists for certain tasks?\n",
        "Ans11 Data stored in dictionaries is self-describing (keys explain the values).\n",
        "and more meaningful data organization.\n",
        "\n",
        "Q12.Describe a scenario where using a tuple would be preferable over a list?\n",
        "Ans12.Use a tuple when you want data that should not change (immutability = data integrity).This helps us from the accidental change. mainly we can use it for the fixed location.\n",
        "\n",
        "Q13.How do sets handle duplicate values in Python?\n",
        "Ans13 A set in Python is a collection of unique, unordered elements.\n",
        "If you try to insert a duplicate value, the set ignores it automatically (keeps only one copy).\n",
        "\n",
        "Q14. How does the “in” keyword work differently for lists and dictionaries?\n",
        "Ans14 For list in checks if a value exists as an element inside the list.\n",
        "nums = [10, 20, 30]\n",
        "print(20 in nums)   # (20 is an element)\n",
        "print(50 in nums)\n",
        "\n",
        " For dictionary in checks only for keys, not values.\n",
        " student = {\"name\": \"Aarsh\", \"age\": 22}\n",
        " print(\"name\" in student)\n",
        "\n",
        "Q15.Can you modify the elements of a tuple? Explain why or why not?\n",
        "Ans15 No, you cannot modify the elements of a tuple once it is created.\n",
        "Tuples in Python are immutable → their contents cannot be changed (no adding, removing, or updating elements).\n",
        "This ensures data integrity and makes them safe for fixed collections\n",
        "\n",
        "Q16.What is a nested dictionary, and give an example of its use case?\n",
        "Ans16 A nested dictionary is a dictionary inside another dictionary.\n",
        "\n",
        "student={\n",
        "  \"name\":\"Aarsh\"\n",
        "  \"orange\":{\"roll_no\":101, \"class\":\"8th\"}\n",
        "}\n",
        "print(student[\"orange\"][\"class\"])\n",
        "\n",
        "Q17.Describe the time complexity of accessing elements in a dictionary?\n",
        "Ans17.Accessing elements in a dictionary is O(1) on average, but in rare collision-heavy cases, it can degrade to O(n).\n",
        "\n",
        "Q18.In what situations are lists preferred over dictionaries?\n",
        "Ans18.lists when you need ordered, index-based, or duplicate-friendly collections. Use dictionaries when you need fast lookups with key–value mapping.\n",
        "\n",
        "Q19.Why are dictionaries considered unordered, and how does that affect data retrieval?\n",
        "Ans19. Dictionaries are “unordered” because data is placed by hash values, not indexes.This means you can reliably retrieve values by keys, but you cannot access them by position like in a list.\n",
        "\n",
        "student = {\"id\": 101, \"name\": \"Aarsh\"}\n",
        "print(student[\"name\"])   # works\n",
        "# print(student[0])  # it gave an error\n",
        "\n",
        "Q20. Explain the difference between a list and a dictionary in terms of data retrieval.\n",
        "Ans20 Lists ->retrieve data by position (index).\n",
        "Dictionaries -> retrieve data by key (meaningful identifier)."
      ],
      "metadata": {
        "id": "6kwe4AXiAHMG"
      }
    },
    {
      "cell_type": "markdown",
      "source": [
        "Practical Questions"
      ],
      "metadata": {
        "id": "NDdwa7_wJRyi"
      }
    },
    {
      "cell_type": "code",
      "source": [
        "#Q1 Write a code to create a string with your name and print it?\n",
        "\n",
        "name=\"Aarsh\"\n",
        "print(\"My name is:\",name)"
      ],
      "metadata": {
        "colab": {
          "base_uri": "https://localhost:8080/"
        },
        "id": "3TABjGWlJZSV",
        "outputId": "ab87b825-fde8-4043-d174-9d566283b82d"
      },
      "execution_count": 1,
      "outputs": [
        {
          "output_type": "stream",
          "name": "stdout",
          "text": [
            "My name is: Aarsh\n"
          ]
        }
      ]
    },
    {
      "cell_type": "code",
      "source": [
        "#Q2 Write a code to find the length of the string \"Hello World\"?\n",
        "\n",
        "s=\"Hello World\"\n",
        "print(len(s))"
      ],
      "metadata": {
        "colab": {
          "base_uri": "https://localhost:8080/"
        },
        "id": "Sny7EIsFJ6XW",
        "outputId": "465cccd0-52b3-430d-cba3-ac2cf2726198"
      },
      "execution_count": 5,
      "outputs": [
        {
          "output_type": "stream",
          "name": "stdout",
          "text": [
            "11\n"
          ]
        }
      ]
    },
    {
      "cell_type": "code",
      "source": [
        "#Q3.Write a code to slice the first 3 characters from the string \"Python Programming\"?\n",
        "\n",
        "a=\"Python Programming\"\n",
        "text=a[:3]\n",
        "print(text)"
      ],
      "metadata": {
        "colab": {
          "base_uri": "https://localhost:8080/"
        },
        "id": "2NLDPUvyKdlD",
        "outputId": "92ac1063-01f3-4b10-c1a6-d73fd6ddee05"
      },
      "execution_count": 9,
      "outputs": [
        {
          "output_type": "stream",
          "name": "stdout",
          "text": [
            "Pyt\n"
          ]
        }
      ]
    },
    {
      "cell_type": "code",
      "source": [
        "#Q4.Write a code to convert the string \"hello\" to uppercase?\n",
        "\n",
        "text=\"hello\"\n",
        "print(text.upper())"
      ],
      "metadata": {
        "colab": {
          "base_uri": "https://localhost:8080/"
        },
        "id": "l5juVa0cLGfR",
        "outputId": "1cf9bcb9-2a93-493c-d103-791f45732e4a"
      },
      "execution_count": 10,
      "outputs": [
        {
          "output_type": "stream",
          "name": "stdout",
          "text": [
            "HELLO\n"
          ]
        }
      ]
    },
    {
      "cell_type": "code",
      "source": [
        "#Q5.  Write a code to replace the word \"apple\" with \"orange\" in the string \"I like apple\"?\n",
        "\n",
        "text=\"I like apple\"\n",
        "new_text=text.replace(\"apple\",\"orange\")\n",
        "print(new_text)"
      ],
      "metadata": {
        "colab": {
          "base_uri": "https://localhost:8080/"
        },
        "id": "gEOCqsZFMlZa",
        "outputId": "5bc1c52c-7e01-4d18-fe6d-752cedca2083"
      },
      "execution_count": 11,
      "outputs": [
        {
          "output_type": "stream",
          "name": "stdout",
          "text": [
            "I like orange\n"
          ]
        }
      ]
    },
    {
      "cell_type": "code",
      "source": [
        "#Q6. Write a code to create a list with numbers 1 to 5 and print it?\n",
        "\n",
        "list=[1,2,3,4,5]\n",
        "print(list)"
      ],
      "metadata": {
        "colab": {
          "base_uri": "https://localhost:8080/"
        },
        "id": "TOSiXG8CM5jR",
        "outputId": "d00eee35-15ce-4232-d9cc-827974ac1b89"
      },
      "execution_count": 12,
      "outputs": [
        {
          "output_type": "stream",
          "name": "stdout",
          "text": [
            "[1, 2, 3, 4, 5]\n"
          ]
        }
      ]
    },
    {
      "cell_type": "code",
      "source": [
        "#Q7.Write a code to append the number 10 to the list [1, 2, 3, 4]?\n",
        "\n",
        "list=[1,2,3,4]\n",
        "list.append(10)\n",
        "print(list)"
      ],
      "metadata": {
        "colab": {
          "base_uri": "https://localhost:8080/"
        },
        "id": "aopYHdaFNDAh",
        "outputId": "d2f8ac4b-560e-4203-adf0-12f44466da84"
      },
      "execution_count": 13,
      "outputs": [
        {
          "output_type": "stream",
          "name": "stdout",
          "text": [
            "[1, 2, 3, 4, 10]\n"
          ]
        }
      ]
    },
    {
      "cell_type": "code",
      "source": [
        "#Q8.Write a code to remove the number 3 from the list [1, 2, 3, 4, 5]?\n",
        "\n",
        "list=[1,2,3,4,5]\n",
        "list.remove(3)\n",
        "print(list)"
      ],
      "metadata": {
        "colab": {
          "base_uri": "https://localhost:8080/"
        },
        "id": "KuVSR1PnNiEt",
        "outputId": "37d7eb15-20d4-4033-9de3-c6a944adada4"
      },
      "execution_count": 14,
      "outputs": [
        {
          "output_type": "stream",
          "name": "stdout",
          "text": [
            "[1, 2, 4, 5]\n"
          ]
        }
      ]
    },
    {
      "cell_type": "code",
      "source": [
        "#Q9.  Write a code to access the second element in the list ['a', 'b', 'c', 'd']?\n",
        "\n",
        "list=['a','b','c','d']\n",
        "print(list[1])"
      ],
      "metadata": {
        "colab": {
          "base_uri": "https://localhost:8080/"
        },
        "id": "9xRR8XHMNsqz",
        "outputId": "706d30a1-f48d-4bf3-fd22-18e144c7a784"
      },
      "execution_count": 15,
      "outputs": [
        {
          "output_type": "stream",
          "name": "stdout",
          "text": [
            "b\n"
          ]
        }
      ]
    },
    {
      "cell_type": "code",
      "source": [
        "#Q10. Write a code to reverse the list [10, 20, 30, 40, 50]?\n",
        "\n",
        "list=[10,20,30,40,50]\n",
        "list.reverse()\n",
        "print(list)"
      ],
      "metadata": {
        "colab": {
          "base_uri": "https://localhost:8080/"
        },
        "id": "0qKmNkz9N41a",
        "outputId": "e77831f8-f664-4d09-8c2a-62ce210b18a6"
      },
      "execution_count": 16,
      "outputs": [
        {
          "output_type": "stream",
          "name": "stdout",
          "text": [
            "[50, 40, 30, 20, 10]\n"
          ]
        }
      ]
    },
    {
      "cell_type": "code",
      "source": [
        "# Q11. Write a code to create a tuple with the elements 100, 200, 300 and print it\n",
        "\n",
        "tuple=(100,200,300)\n",
        "print(tuple)\n",
        "\n"
      ],
      "metadata": {
        "colab": {
          "base_uri": "https://localhost:8080/"
        },
        "id": "Y-yhhik_N_BR",
        "outputId": "aa431e35-06af-4fd7-c6d3-ec2d48653fa3"
      },
      "execution_count": 18,
      "outputs": [
        {
          "output_type": "stream",
          "name": "stdout",
          "text": [
            "(100, 200, 300)\n"
          ]
        }
      ]
    },
    {
      "cell_type": "code",
      "source": [
        "# Q12.Write a code to access the second-to-last element of the tuple ('red', 'green', 'blue', 'yellow').\n",
        "\n",
        "tuple=('red','green','blue','yellow')\n",
        "print(tuple[-2])\n",
        "#"
      ],
      "metadata": {
        "colab": {
          "base_uri": "https://localhost:8080/"
        },
        "id": "SWwsic_ROM9v",
        "outputId": "d1f7e4b9-7c81-4f51-bfd5-9ceadfdfbc6f"
      },
      "execution_count": 24,
      "outputs": [
        {
          "output_type": "stream",
          "name": "stdout",
          "text": [
            "blue\n"
          ]
        }
      ]
    },
    {
      "cell_type": "code",
      "source": [
        "# Q13. Write a code to find the minimum number in the tuple (10, 20, 5, 15).\n",
        "\n",
        "tuple=(10,20,5,15)\n",
        "print(min(tuple))"
      ],
      "metadata": {
        "colab": {
          "base_uri": "https://localhost:8080/"
        },
        "id": "gaVdbPTiOumE",
        "outputId": "59c50da2-acce-4433-f7c9-a9500474651f"
      },
      "execution_count": 27,
      "outputs": [
        {
          "output_type": "stream",
          "name": "stdout",
          "text": [
            "5\n"
          ]
        }
      ]
    },
    {
      "cell_type": "code",
      "source": [
        "#Q14. Write a code to find the index of the element \"cat\" in the tuple ('dog', 'cat', 'rabbit')?\n",
        "\n",
        "tuple=('dog','cat','rabbit')\n",
        "print(tuple.index('cat'))"
      ],
      "metadata": {
        "colab": {
          "base_uri": "https://localhost:8080/"
        },
        "id": "nWut4MD2PjmC",
        "outputId": "ad7eaa38-60da-427c-91c7-c937a843c322"
      },
      "execution_count": 28,
      "outputs": [
        {
          "output_type": "stream",
          "name": "stdout",
          "text": [
            "1\n"
          ]
        }
      ]
    },
    {
      "cell_type": "code",
      "source": [
        "#Q15.  Write a code to create a tuple containing three different fruits and check if \"kiwi\" is in it?\n",
        "\n",
        "tuple=(\"apple\",\"banana\",\"kiwi\")\n",
        "print(\"kiwi\" in tuple)"
      ],
      "metadata": {
        "colab": {
          "base_uri": "https://localhost:8080/"
        },
        "id": "ErpTmSrLPzXL",
        "outputId": "d78820dc-0b25-469a-9d0b-9f42639d8cd3"
      },
      "execution_count": 29,
      "outputs": [
        {
          "output_type": "stream",
          "name": "stdout",
          "text": [
            "True\n"
          ]
        }
      ]
    },
    {
      "cell_type": "code",
      "source": [
        "#Q16.Write a code to create a set with the elements 'a', 'b', 'c' and print it?\n",
        "\n",
        "set={\"a\",\"b\",\"c\"}\n",
        "print(set)\n",
        "\n",
        "\n"
      ],
      "metadata": {
        "colab": {
          "base_uri": "https://localhost:8080/"
        },
        "id": "NN1GpAvoP-_l",
        "outputId": "85bf65fd-e3e2-4ef9-dbec-76c155670a34"
      },
      "execution_count": 30,
      "outputs": [
        {
          "output_type": "stream",
          "name": "stdout",
          "text": [
            "{'c', 'b', 'a'}\n"
          ]
        }
      ]
    },
    {
      "cell_type": "code",
      "source": [
        "# Q17.Write a code to clear all elements from the set {1, 2, 3, 4, 5}.\n",
        "\n",
        "set={1,2,3,4,5}\n",
        "set.clear()\n",
        "print(set)"
      ],
      "metadata": {
        "colab": {
          "base_uri": "https://localhost:8080/"
        },
        "id": "_HGnTkj-QPfx",
        "outputId": "da887633-2de3-494e-a283-f44eb03b6fe8"
      },
      "execution_count": 31,
      "outputs": [
        {
          "output_type": "stream",
          "name": "stdout",
          "text": [
            "set()\n"
          ]
        }
      ]
    },
    {
      "cell_type": "code",
      "source": [
        "#Q18.  Write a code to remove the element 4 from the set {1, 2, 3, 4}.\n",
        "\n",
        "\n",
        "set={1,2,3,4}\n",
        "set.remove(4)\n",
        "print(set)\n"
      ],
      "metadata": {
        "colab": {
          "base_uri": "https://localhost:8080/"
        },
        "id": "n8_XAgqvQc_a",
        "outputId": "3570d1ff-a93e-4e36-c2c8-cb7e41c38774"
      },
      "execution_count": 32,
      "outputs": [
        {
          "output_type": "stream",
          "name": "stdout",
          "text": [
            "{1, 2, 3}\n"
          ]
        }
      ]
    },
    {
      "cell_type": "code",
      "source": [
        "#Q19. Write a code to find the union of two sets {1, 2, 3} and {3, 4, 5}.\n",
        "\n",
        "set1={1,2,3}\n",
        "set2={3,4,5}\n",
        "x=set1.union(set2)\n",
        "print(x)"
      ],
      "metadata": {
        "colab": {
          "base_uri": "https://localhost:8080/"
        },
        "id": "ohiqsLWLQmGe",
        "outputId": "ff353182-338e-451d-8b0d-6ba8719d8b5c"
      },
      "execution_count": 33,
      "outputs": [
        {
          "output_type": "stream",
          "name": "stdout",
          "text": [
            "{1, 2, 3, 4, 5}\n"
          ]
        }
      ]
    },
    {
      "cell_type": "code",
      "source": [
        "#Q20. Write a code to find the intersection of two sets {1, 2, 3} and {2, 3, 4}.\n",
        "\n",
        "set1={1,2,3}\n",
        "set2={2,3,4}\n",
        "x=set1.intersection(set2)\n",
        "print(x)"
      ],
      "metadata": {
        "colab": {
          "base_uri": "https://localhost:8080/"
        },
        "id": "a9VNi2XdQ9OJ",
        "outputId": "531efe2f-6c7d-498e-9dfc-2909d62fc335"
      },
      "execution_count": 34,
      "outputs": [
        {
          "output_type": "stream",
          "name": "stdout",
          "text": [
            "{2, 3}\n"
          ]
        }
      ]
    },
    {
      "cell_type": "code",
      "source": [
        "#Q21. Write a code to create a dictionary with the keys \"name\", \"age\", and \"city\", and print it.\n",
        "\n",
        "dic={\"name\":\"Aarsh\",\"age\":22,\"city\":\"Jaipur\"}\n",
        "print(dic)"
      ],
      "metadata": {
        "colab": {
          "base_uri": "https://localhost:8080/"
        },
        "id": "46fjV1FvRE0d",
        "outputId": "8733c866-1e42-46bf-de1f-d51bc48bce45"
      },
      "execution_count": 35,
      "outputs": [
        {
          "output_type": "stream",
          "name": "stdout",
          "text": [
            "{'name': 'Aarsh', 'age': 22, 'city': 'Jaipur'}\n"
          ]
        }
      ]
    },
    {
      "cell_type": "code",
      "source": [
        "#Q22. Write a code to add a new key-value pair \"country\": \"USA\" to the dictionary {'name': 'John', 'age': 25}.\n",
        "\n",
        "dic={'name': 'John', 'age': 25}\n",
        "\n",
        "dic[\"country\"]=\"USA\"\n",
        "print(dic)"
      ],
      "metadata": {
        "colab": {
          "base_uri": "https://localhost:8080/"
        },
        "id": "HKft-KYnROe0",
        "outputId": "a3988afb-6481-4cdf-b3c6-5d467b4eae87"
      },
      "execution_count": 36,
      "outputs": [
        {
          "output_type": "stream",
          "name": "stdout",
          "text": [
            "{'name': 'John', 'age': 25, 'country': 'USA'}\n"
          ]
        }
      ]
    },
    {
      "cell_type": "code",
      "source": [
        "#Q23. Write a code to access the value associated with the key \"name\" in the dictionary {'name': 'Alice', 'age': 30}.\n",
        "\n",
        "dic={'name': 'Alice', 'age': 30}\n",
        "print(dic[\"name\"])\n",
        "\n"
      ],
      "metadata": {
        "colab": {
          "base_uri": "https://localhost:8080/"
        },
        "id": "x1u3v2qWRkJF",
        "outputId": "5e844e60-f4a4-4de4-8216-89e3ccec4672"
      },
      "execution_count": 37,
      "outputs": [
        {
          "output_type": "stream",
          "name": "stdout",
          "text": [
            "Alice\n"
          ]
        }
      ]
    },
    {
      "cell_type": "code",
      "source": [
        "#Q24. Write a code to remove the key \"age\" from the dictionary {'name': 'Bob', 'age': 22, 'city': 'New York'}.\n",
        "\n",
        "dic={'name': 'Bob', 'age': 22, 'city': 'New York'}\n",
        "dic.pop(\"age\")\n",
        "print(dic)"
      ],
      "metadata": {
        "colab": {
          "base_uri": "https://localhost:8080/"
        },
        "id": "_5lfCF48R2UY",
        "outputId": "a751e07c-f154-4c41-ef40-d2cbf0a552d3"
      },
      "execution_count": 40,
      "outputs": [
        {
          "output_type": "stream",
          "name": "stdout",
          "text": [
            "{'name': 'Bob', 'city': 'New York'}\n"
          ]
        }
      ]
    },
    {
      "cell_type": "code",
      "source": [
        "#Q25.Write a code to check if the key \"city\" exists in the dictionary {'name': 'Alice', 'city': 'Paris'}.\n",
        "\n",
        "dic={'name': 'Alice', 'city': 'Paris'}\n",
        "print('city' in dic)"
      ],
      "metadata": {
        "colab": {
          "base_uri": "https://localhost:8080/"
        },
        "id": "_GhlFD7MSdfL",
        "outputId": "41a4c34a-149b-45ea-ede4-bf6055288918"
      },
      "execution_count": 44,
      "outputs": [
        {
          "output_type": "stream",
          "name": "stdout",
          "text": [
            "True\n"
          ]
        }
      ]
    },
    {
      "cell_type": "code",
      "source": [
        "#Q26. Write a code to create a list, a tuple, and a dictionary, and print them all?\n",
        "\n",
        "list=[1,2,3]\n",
        "print(list)\n",
        "\n",
        "tuple=(1,2,3)\n",
        "print(tuple)\n",
        "\n",
        "dic={\"name\":\"Aarsh\",\"age\":22,\"city\":\"Jaipur\"}\n",
        "print(dic)"
      ],
      "metadata": {
        "colab": {
          "base_uri": "https://localhost:8080/"
        },
        "id": "yAOU6b5mTEnK",
        "outputId": "f62bd0b6-1e7d-482d-b405-2451e88452e2"
      },
      "execution_count": 45,
      "outputs": [
        {
          "output_type": "stream",
          "name": "stdout",
          "text": [
            "[1, 2, 3]\n",
            "(1, 2, 3)\n",
            "{'name': 'Aarsh', 'age': 22, 'city': 'Jaipur'}\n"
          ]
        }
      ]
    },
    {
      "cell_type": "code",
      "source": [
        "#Q27.Write a code to create a list of 5 random numbers between 1 and 100, sort it in ascending order, and print the result.(replaced)\n",
        "\n",
        "import random\n",
        "list=[]\n",
        "\n",
        "for i in range(5):\n",
        "  list.append(random.randint(1,100))\n",
        "  list.sort()\n",
        "print(\"Sorted_list\",list)\n",
        "\n"
      ],
      "metadata": {
        "colab": {
          "base_uri": "https://localhost:8080/"
        },
        "id": "4ySObyyJTLZ3",
        "outputId": "ec58c6df-3fa6-49f4-a7c7-733b44f23439"
      },
      "execution_count": 47,
      "outputs": [
        {
          "output_type": "stream",
          "name": "stdout",
          "text": [
            "Sorted_list [28, 58, 71, 93, 98]\n"
          ]
        }
      ]
    },
    {
      "cell_type": "code",
      "source": [
        "#Q28.Write a code to create a list with strings and print the element at the third index?\n",
        "\n",
        "list=[\"a\",\"b\",\"c\",\"d\"]\n",
        "print(list[3])"
      ],
      "metadata": {
        "colab": {
          "base_uri": "https://localhost:8080/"
        },
        "id": "cQxR5S8jUDfU",
        "outputId": "bf874b0e-c38c-4c8e-ae6c-01dd69a9bb8f"
      },
      "execution_count": 48,
      "outputs": [
        {
          "output_type": "stream",
          "name": "stdout",
          "text": [
            "d\n"
          ]
        }
      ]
    },
    {
      "cell_type": "code",
      "source": [
        "#Q29. Write a code to combine two dictionaries into one and print the result.\n",
        "\n",
        "dic1={'name': 'Aarsh', 'age': 30}\n",
        "dic2={'name': 'Rahul', 'age': 22, 'city': 'New York'}\n",
        "\n",
        "combined={**dic1,**dic2}\n",
        "print(combined)"
      ],
      "metadata": {
        "colab": {
          "base_uri": "https://localhost:8080/"
        },
        "id": "G2ALP0jqULEc",
        "outputId": "0f41c69c-2870-496d-f016-6ea849cb9b9f"
      },
      "execution_count": 50,
      "outputs": [
        {
          "output_type": "stream",
          "name": "stdout",
          "text": [
            "{'name': 'Rahul', 'age': 22, 'city': 'New York'}\n"
          ]
        }
      ]
    },
    {
      "cell_type": "code",
      "source": [
        "#Q30.Write a code to convert a list of strings into a set.\n",
        "\n",
        "list=[\"a\",\"b\",\"c\",\"d\"]\n",
        "x=set(list)\n",
        "print(x)"
      ],
      "metadata": {
        "id": "svZCQqdBVADn"
      },
      "execution_count": null,
      "outputs": []
    }
  ]
}