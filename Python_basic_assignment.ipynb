{
  "nbformat": 4,
  "nbformat_minor": 0,
  "metadata": {
    "colab": {
      "provenance": []
    },
    "kernelspec": {
      "name": "python3",
      "display_name": "Python 3"
    },
    "language_info": {
      "name": "python"
    }
  },
  "cells": [
    {
      "cell_type": "markdown",
      "source": [
        "**Python Basics**\n",
        "\n",
        "\n"
      ],
      "metadata": {
        "id": "9SYiBtbfW2Ih"
      }
    },
    {
      "cell_type": "markdown",
      "source": [
        "1. What is Python, and why is it popular\n",
        "  -> Python is a high-level, interpreted programming language that’s known for being easy to read, write, and learn. It was created by Guido van Rossum and first released in 1991. Its design philosophy emphasizes code readability and simplicity.\n",
        "  it is popular\n",
        "\n",
        "\n",
        "1.   Easy to Learn and use\n",
        "2.   Versatile\n",
        "3.   Open Source\n",
        "4.   Strong Community Support\n",
        "\n",
        "2. What is an interpreter in Python?\n",
        "  ->In Python, an interpreter is a program that reads and executes your Python code line by line, directly translating it into machine code that your computer can understand.Executes it immediately before moving to the next line.\n",
        "\n",
        "3. What are pre-defined keywords in Python?\n",
        "-> Pre-defined keywords in Python are reserved words that have special meaning in the Python language.\n",
        "They are part of Python’s syntax and cannot be used as variable names, function names, or identifiers, because Python uses them for its own commands and structure.\n",
        "\n",
        "4. Can keywords be used as variable names?\n",
        "  ->No — keywords cannot be used as variable names in Python.Keywords are reserved words that Python uses for its own syntax, so if you try to use them as variable names, you’ll get a SyntaxError.\n",
        "\n",
        "5. What is mutability in Python?\n",
        " ->Mutability in Python refers to whether an object’s value can be changed   after it is created.\n",
        "   my_list = [1, 2, 3]\n",
        "   my_list[0] = 10      # Modifying in place\n",
        "   print(my_list)   \n",
        "\n",
        "6. Why are lists mutable, but tuples are immutable?\n",
        "-> Lists → meant for dynamic collections where elements may change frequently (adding, removing, updating).Lists store elements in a dynamic array structure that supports in-place changes (resizing, reordering, updating values).\n",
        "->Tuples → meant for fixed collections where data should not change, often used for constants, keys, or function returns.Tuples store elements in a fixed-size block of memory, so once created, you cannot add/remove/replace elements — making them faster and more memory-efficient.\n",
        "\n",
        "7. What is the difference between “==” and “is” operators in Python?\n",
        "-> Checks if two objects have the same value (contents are equal).\n",
        "  a = [1, 2, 3]\n",
        "  b = [1, 2, 3]\n",
        "\n",
        "  print(a == b)\n",
        "\n",
        "  is → Object Identity\n",
        "\n",
        "  x = [1, 2, 3]\n",
        "  y = x\n",
        "  z = [1, 2, 3]\n",
        "\n",
        "  print(x == y)  # True  (values equal)\n",
        "  print(x is y)  # TrueChecks if two variables refer to the exact same object in memory.\n",
        "\n",
        "8. What are logical operators in Python?\n",
        "-> Logical operators in Python are used to combine or modify conditional (Boolean) expressions.They work with True and False values and return a Boolean result.\n",
        "\n",
        "a = 10\n",
        "b = 5\n",
        "\n",
        "# AND\n",
        "print(a > 5 and b < 10)   # True (both conditions true)\n",
        "\n",
        "# OR\n",
        "print(a < 5 or b < 10)    # True (second condition true)\n",
        "\n",
        "# NOT\n",
        "print(not (a > b))\n",
        "\n",
        "9. What is type casting in Python?\n",
        "-> Type casting in Python is the process of converting one data type into another.It’s useful when you need to perform operations between variables of different types or format data in a specific way.\n",
        "\n",
        "10. What is the difference between implicit and explicit type casting?\n",
        "-> Implicit means Done Automatically by python.\n",
        "-> Explicit means Done Manullay by programmer using built in functions\n",
        "\n",
        "11. What is the purpose of conditional statements in Python?\n",
        "->The purpose of conditional statements in Python is to let your program make decisions and execute different code depending on whether a condition is True or False.\n",
        "To perform certain actions only when specific conditions are met.\n",
        "To handle different situations in the same program.\n",
        "To make the program dynamic and responsive to data.\n",
        "\n",
        "12. How does the elif statement work?\n",
        "-> elif statement work when if statement is not true\n",
        " Checks another condition if the previous one was False\n",
        "\n",
        "13. What is the difference between for and while loops?\n",
        "->  for loop:\n",
        "Used when you know in advance how many times to loop (or when looping over a sequence like a list, tuple, string, or range).\n",
        "\n",
        "Automatically moves to the next item in the sequence.\n",
        "\n",
        "-> while loop:\n",
        "Used when you don’t know how many times to loop — it keeps running as long as the condition is True.\n",
        "\n",
        "14. Describe a scenario where a while loop is more suitable than a for loop?\n",
        "->\n",
        "imagine the scenario that 1st thing is that  you dont know the things in advance where while loop is more suitable  \n",
        "\n",
        "correct_pin = \"1234\"\n",
        "attempt = \"\"\n",
        "tries = 0\n",
        "max_tries = 3\n",
        "\n",
        "while attempt != correct_pin and tries < max_tries:\n",
        "    attempt = input(\"Enter your PIN: \")\n",
        "    tries += 1\n",
        "\n",
        "if attempt == correct_pin:\n",
        "    print(\"Access granted.\")\n",
        "else:\n",
        "    print(\"Account locked due to too many failed attempts.\")\n",
        "\n",
        "\n",
        "\n",
        "\n",
        "\n",
        "\n"
      ],
      "metadata": {
        "id": "0mXXFZoeq3uL"
      }
    },
    {
      "cell_type": "markdown",
      "source": [
        "**Practical Questions**"
      ],
      "metadata": {
        "id": "foruLO61yDJ8"
      }
    },
    {
      "cell_type": "code",
      "source": [
        "# Ques1 Write a Python program to print \"Hello, World!y\n",
        "print(\"Hello, World!\")\n",
        "\n"
      ],
      "metadata": {
        "colab": {
          "base_uri": "https://localhost:8080/"
        },
        "id": "S8r9_0oUzb1x",
        "outputId": "39819fc1-ab62-46fc-c576-0887d090e32b"
      },
      "execution_count": 1,
      "outputs": [
        {
          "output_type": "stream",
          "name": "stdout",
          "text": [
            "Hello, World!\n"
          ]
        }
      ]
    },
    {
      "cell_type": "code",
      "source": [
        "#2.Write a Python program that displays your name and age\n",
        "name=\"Aarsh\"\n",
        "age=23\n",
        "print(\"My name is\",name,\"and my age is\",age)"
      ],
      "metadata": {
        "colab": {
          "base_uri": "https://localhost:8080/"
        },
        "id": "WSueDt0czmb5",
        "outputId": "fe910c35-3097-4258-9adc-6bb655a3b8c3"
      },
      "execution_count": 2,
      "outputs": [
        {
          "output_type": "stream",
          "name": "stdout",
          "text": [
            "My name is Aarsh and my age is 23\n"
          ]
        }
      ]
    },
    {
      "cell_type": "code",
      "source": [
        "#3.Write code to print all the pre-defined keywords in Python using the keyword library8\n",
        "import keyword\n",
        "\n",
        "\n",
        "keywords_list = keyword.kwlist\n",
        "\n",
        "print(\"Python Keywords:\")\n",
        "for word in keywords_list:\n",
        "    print(word)"
      ],
      "metadata": {
        "colab": {
          "base_uri": "https://localhost:8080/"
        },
        "id": "QgN12EFIz38y",
        "outputId": "5cd2a575-c75b-477d-a5c6-c15fd5b64165"
      },
      "execution_count": 7,
      "outputs": [
        {
          "output_type": "stream",
          "name": "stdout",
          "text": [
            "Python Keywords:\n",
            "False\n",
            "None\n",
            "True\n",
            "and\n",
            "as\n",
            "assert\n",
            "async\n",
            "await\n",
            "break\n",
            "class\n",
            "continue\n",
            "def\n",
            "del\n",
            "elif\n",
            "else\n",
            "except\n",
            "finally\n",
            "for\n",
            "from\n",
            "global\n",
            "if\n",
            "import\n",
            "in\n",
            "is\n",
            "lambda\n",
            "nonlocal\n",
            "not\n",
            "or\n",
            "pass\n",
            "raise\n",
            "return\n",
            "try\n",
            "while\n",
            "with\n",
            "yield\n"
          ]
        }
      ]
    },
    {
      "cell_type": "code",
      "source": [
        "#4.Write a program that checks if a given word is a Python keyword.\n",
        "import keyword\n",
        "\n",
        "word=input(\"Enter a word:\")\n",
        "if keyword.iskeyword(word):\n",
        "  print(f\"{word} is a Python keyword.\")\n",
        "else:\n",
        "  print(f\"{word} is not a Python keyword.\")"
      ],
      "metadata": {
        "colab": {
          "base_uri": "https://localhost:8080/"
        },
        "id": "h1Y8fyte0tTX",
        "outputId": "98b8db89-759e-4f5a-cee0-c4b54c888db8"
      },
      "execution_count": 14,
      "outputs": [
        {
          "output_type": "stream",
          "name": "stdout",
          "text": [
            "Enter a word:if\n",
            "if is a Python keyword.\n"
          ]
        }
      ]
    },
    {
      "cell_type": "code",
      "source": [
        "\"\"\"5. Create a list and tuple in Python, and demonstrate how attempting to change an element works differently\n",
        "for each.\"\"\"\n",
        "\n",
        "my_list = [10, 20, 30]\n",
        "print(\"Original List:\", my_list)\n",
        "\n",
        "# Changing an element in the list\n",
        "my_list[1] = 200\n",
        "print(\"Modified List:\", my_list)\n",
        "\n",
        "# Creating a tuple\n",
        "my_tuple = (10, 20, 30)\n",
        "print(\"Original Tuple:\", my_tuple)\n",
        "\n",
        "# Trying to change an element in the tuple\n",
        "# This will cause an error\n",
        "my_tuple[1] = 200   #  This line will give a TypeError\n",
        "\n"
      ],
      "metadata": {
        "id": "o9IhYyG-13Os"
      },
      "execution_count": null,
      "outputs": []
    },
    {
      "cell_type": "code",
      "source": [
        "\"\"\"6.  Write a function to demonstrate the behavior of mutable and immutable arguments.\"\"\"\n",
        "\n",
        "   def modify_values(num, num_list):\n",
        "    num += 10               # Tries to change the integer\n",
        "    num_list.append(100)    # Modifies the list\n",
        "\n",
        "    print(\"Inside function:\")\n",
        "    print(\"num =\", num)\n",
        "    print(\"num_list =\", num_list)\n",
        "\n",
        "# Original values\n",
        "a = 5\n",
        "b = [1, 2, 3]\n",
        "\n",
        "modify_values(a, b)\n",
        "\n",
        "print(\"\\n Outside function:\")\n",
        "print(\"a =\", a)             # Integer remains unchanged\n",
        "print(\"b =\", b)             # List is modified"
      ],
      "metadata": {
        "colab": {
          "base_uri": "https://localhost:8080/",
          "height": 106
        },
        "id": "WPTVcI-hCb8C",
        "outputId": "349e1a67-3a1a-4a95-cfc6-d1a6743cdec5"
      },
      "execution_count": 26,
      "outputs": [
        {
          "output_type": "error",
          "ename": "IndentationError",
          "evalue": "unexpected indent (ipython-input-3761032933.py, line 3)",
          "traceback": [
            "\u001b[0;36m  File \u001b[0;32m\"/tmp/ipython-input-3761032933.py\"\u001b[0;36m, line \u001b[0;32m3\u001b[0m\n\u001b[0;31m    def modify_values(num, num_list):\u001b[0m\n\u001b[0m    ^\u001b[0m\n\u001b[0;31mIndentationError\u001b[0m\u001b[0;31m:\u001b[0m unexpected indent\n"
          ]
        }
      ]
    },
    {
      "cell_type": "code",
      "source": [
        "def modify_values(num, num_list):\n",
        "    num += 10               # Tries to change the integer\n",
        "    num_list.append(100)    # Modifies the list\n",
        "\n",
        "    print(\"Inside function:\")\n",
        "    print(\"num =\", num)\n",
        "    print(\"num_list =\", num_list)\n",
        "\n",
        "# Original values\n",
        "a = 5\n",
        "b = [1, 2, 3]\n",
        "\n",
        "modify_values(a, b)\n",
        "\n",
        "print(\"\\n Outside function:\")\n",
        "print(\"a =\", a)             # Integer remains unchanged\n",
        "print(\"b =\", b)             # List is modified"
      ],
      "metadata": {
        "colab": {
          "base_uri": "https://localhost:8080/"
        },
        "id": "kBwBuEKmE8lb",
        "outputId": "b45029d4-7dad-4ee3-afb4-b16f7b5ec48a"
      },
      "execution_count": 25,
      "outputs": [
        {
          "output_type": "stream",
          "name": "stdout",
          "text": [
            "Inside function:\n",
            "num = 15\n",
            "num_list = [1, 2, 3, 100]\n",
            "\n",
            " Outside function:\n",
            "a = 5\n",
            "b = [1, 2, 3, 100]\n"
          ]
        }
      ]
    },
    {
      "cell_type": "code",
      "source": [
        "# 7.Write a program that performs basic arithmetic operations on two user-input numbers.\n",
        "#CODE:-\n",
        "num1 = float(input(\"Enter the first number: \"))\n",
        "num2 = float(input(\"Enter the second number: \"))\n",
        "\n",
        "# Addition\n",
        "result_add = num1 + num2\n",
        "print(f\"Addition: {num1} + {num2} = {result_add}\")\n"
      ],
      "metadata": {
        "colab": {
          "base_uri": "https://localhost:8080/"
        },
        "id": "mmimBQSdFKZ4",
        "outputId": "a32319f3-851b-45ee-89a1-ebf842065974"
      },
      "execution_count": 27,
      "outputs": [
        {
          "output_type": "stream",
          "name": "stdout",
          "text": [
            "Enter the first number: 45.66\n",
            "Enter the second number: 54.8\n",
            "Addition: 45.66 + 54.8 = 100.46\n"
          ]
        }
      ]
    },
    {
      "cell_type": "code",
      "source": [
        "# 8. Write a program to demonstrate the use of logical operators\n",
        "#CODE:-\n",
        "\n",
        "# Taking input from user\n",
        "a = int(input(\"Enter first number: \"))\n",
        "b = int(input(\"Enter second number: \"))\n",
        "\n",
        "print(\"\\n--- Logical Operators ---\")\n",
        "\n",
        "# Using 'and' operator\n",
        "if a > 0 and b > 0:\n",
        "    print(\"Both numbers are positive (AND condition is True)\")\n",
        "else:\n",
        "    print(\"Both numbers are not positive\")\n",
        "\n",
        "# Using 'or' operator\n",
        "if a > 0 or b > 0:\n",
        "    print(\"At least one number is positive (OR condition is True)\")\n",
        "else:\n",
        "    print(\"Neither number is positive\")\n",
        "\n",
        "# Using 'not' operator\n",
        "print(\"Not(a > b):\", not(a > b))"
      ],
      "metadata": {
        "colab": {
          "base_uri": "https://localhost:8080/"
        },
        "id": "Aj2vTQumGdA4",
        "outputId": "41ca6895-8ea4-4099-9bfd-404c4109a99d"
      },
      "execution_count": 28,
      "outputs": [
        {
          "output_type": "stream",
          "name": "stdout",
          "text": [
            "Enter first number: 10\n",
            "Enter second number: 4\n",
            "\n",
            "--- Logical Operators ---\n",
            "Both numbers are positive (AND condition is True)\n",
            "At least one number is positive (OR condition is True)\n",
            "Not(a > b): False\n"
          ]
        }
      ]
    },
    {
      "cell_type": "code",
      "source": [
        "#9.Write a Python program to convert user input from string to integer, float, and boolean types.\n",
        "#CODE:-\n",
        "string_value = input(\"Enter a string value: \")\n",
        "integer_value = int(string_value)\n",
        "float_value = float(string_value)\n",
        "boolean_value = bool(string_value)\n",
        "print(\"String value:\", string_value)\n",
        "print(\"Integer value:\", integer_value)\n",
        "print(\"Float value:\", float_value)\n",
        "print(\"Boolean value:\", boolean_value)"
      ],
      "metadata": {
        "colab": {
          "base_uri": "https://localhost:8080/"
        },
        "id": "oSQ8kLHWG64R",
        "outputId": "6f0e0fff-21ef-4735-fbf5-1d3c48d0380b"
      },
      "execution_count": 31,
      "outputs": [
        {
          "output_type": "stream",
          "name": "stdout",
          "text": [
            "Enter a string value: 43\n",
            "String value: 43\n",
            "Integer value: 43\n",
            "Float value: 43.0\n",
            "Boolean value: True\n"
          ]
        }
      ]
    },
    {
      "cell_type": "code",
      "source": [
        "# 10. Write code to demonstrate type casting with list elements.\n",
        "# CODE:-\n",
        "\n",
        "str_list = [\"10\", \"20\", \"30\", \"40\"]\n",
        "\n",
        "# Convert each element to integer using a loop\n",
        "int_list = []\n",
        "for item in str_list:\n",
        "    int_list.append(int(item))\n",
        "\n",
        "# Convert each element to float\n",
        "float_list = []\n",
        "for item in str_list:\n",
        "    float_list.append(float(item))\n",
        "\n",
        "# Convert each element to boolean\n",
        "bool_list = []\n",
        "for item in str_list:\n",
        "    bool_list.append(bool(item))\n",
        "\n",
        "# Printing results\n",
        "print(\"Original (string) list: \", str_list)\n",
        "print(\"Converted to integers:  \", int_list)\n",
        "print(\"Converted to floats:    \", float_list)\n",
        "print(\"Converted to booleans:  \", bool_list)"
      ],
      "metadata": {
        "colab": {
          "base_uri": "https://localhost:8080/"
        },
        "id": "0zG2NUMJH-N_",
        "outputId": "8623e533-5f29-4b91-e70e-b0a77c4e87d2"
      },
      "execution_count": 1,
      "outputs": [
        {
          "output_type": "stream",
          "name": "stdout",
          "text": [
            "Original (string) list:  ['10', '20', '30', '40']\n",
            "Converted to integers:   [10, 20, 30, 40]\n",
            "Converted to floats:     [10.0, 20.0, 30.0, 40.0]\n",
            "Converted to booleans:   [True, True, True, True]\n"
          ]
        }
      ]
    },
    {
      "cell_type": "code",
      "source": [
        "# 11.  Write a program that checks if a number is positive, negative, or zero.\n",
        "#CODE:-\n",
        "# Taking input from the user\n",
        "num = float(input(\"Enter a number: \"))\n",
        "\n",
        "# Checking the number\n",
        "if num > 0:\n",
        "    print(\"The number is Positive.\")\n",
        "elif num < 0:\n",
        "    print(\"The number is Negative.\")\n",
        "else:\n",
        "    print(\"The number is Zero.\")"
      ],
      "metadata": {
        "colab": {
          "base_uri": "https://localhost:8080/"
        },
        "id": "8apkCWuzlPRG",
        "outputId": "763540a3-6e7b-4f72-ba9a-feac63bcc2bf"
      },
      "execution_count": 2,
      "outputs": [
        {
          "output_type": "stream",
          "name": "stdout",
          "text": [
            "Enter a number: 2\n",
            "The number is Positive.\n"
          ]
        }
      ]
    },
    {
      "cell_type": "code",
      "source": [
        "# 12.Write a for loop to print numbers from 1 to 10.\n",
        "# CODE:-\n",
        "for i in range(1, 11):\n",
        "    print(i)"
      ],
      "metadata": {
        "colab": {
          "base_uri": "https://localhost:8080/"
        },
        "id": "XTGuXqEDlYhU",
        "outputId": "830d2b14-bab2-4ed9-e002-b0be19fecb21"
      },
      "execution_count": 3,
      "outputs": [
        {
          "output_type": "stream",
          "name": "stdout",
          "text": [
            "1\n",
            "2\n",
            "3\n",
            "4\n",
            "5\n",
            "6\n",
            "7\n",
            "8\n",
            "9\n",
            "10\n"
          ]
        }
      ]
    },
    {
      "cell_type": "code",
      "source": [
        "#13. Write a Python program to find the sum of all even numbers between 1 and 50.\n",
        "#CODE:-\n",
        "sum_even = 0\n",
        "\n",
        "for i in range(1, 51):\n",
        "    if i % 2 == 0:\n",
        "        sum_even += i\n",
        "\n",
        "print(\"Sum of even numbers from 1 to 50 is:\", sum_even)"
      ],
      "metadata": {
        "colab": {
          "base_uri": "https://localhost:8080/"
        },
        "id": "JbhMw3Fdlckz",
        "outputId": "87082ced-bfb0-40ae-f3b8-98857e5d772f"
      },
      "execution_count": 5,
      "outputs": [
        {
          "output_type": "stream",
          "name": "stdout",
          "text": [
            "Sum of even numbers from 1 to 50 is: 650\n"
          ]
        }
      ]
    },
    {
      "cell_type": "code",
      "source": [
        "# 14. Write a program to reverse a string using a while loop.\n",
        "#CODE:-\n",
        "# Taking input from the user\n",
        "text = input(\"Enter a string: \")\n",
        "\n",
        "# Initialize index to last character\n",
        "index = len(text) - 1\n",
        "reversed_text = \"\"\n",
        "\n",
        "# While loop to reverse the string\n",
        "while index >= 0:\n",
        "    reversed_text += text[index]\n",
        "    index -= 1\n",
        "\n",
        "# Print the reversed string\n",
        "print(\"Reversed string:\", reversed_text)"
      ],
      "metadata": {
        "colab": {
          "base_uri": "https://localhost:8080/"
        },
        "id": "C5Bi5B8ll821",
        "outputId": "d6fa257d-89b6-4894-fdf8-69eb08beb084"
      },
      "execution_count": 8,
      "outputs": [
        {
          "output_type": "stream",
          "name": "stdout",
          "text": [
            "Enter a string: aarsh\n",
            "Reversed string: hsraa\n"
          ]
        }
      ]
    },
    {
      "cell_type": "code",
      "source": [
        "# 15. Write a Python program to calculate the factorial of a number provided by the user using a while loop\n",
        "#CODE:-\n",
        "# Take input from user\n",
        "num = int(input(\"Enter a number: \"))\n",
        "\n",
        "# Initialize result and counter\n",
        "factorial = 1\n",
        "i = 1\n",
        "\n",
        "# Calculate factorial using while loop\n",
        "while i <= num:\n",
        "    factorial *= i\n",
        "    i += 1\n",
        "\n",
        "# Print the result\n",
        "print(f\"The factorial of {num} is: {factorial}\")"
      ],
      "metadata": {
        "colab": {
          "base_uri": "https://localhost:8080/"
        },
        "id": "OZm8xZermjxT",
        "outputId": "7eee823d-5977-4164-a995-f952e15cc50c"
      },
      "execution_count": 9,
      "outputs": [
        {
          "output_type": "stream",
          "name": "stdout",
          "text": [
            "Enter a number: 4\n",
            "The factorial of 4 is: 24\n"
          ]
        }
      ]
    }
  ]
}