{
  "nbformat": 4,
  "nbformat_minor": 0,
  "metadata": {
    "colab": {
      "provenance": []
    },
    "kernelspec": {
      "name": "python3",
      "display_name": "Python 3"
    },
    "language_info": {
      "name": "python"
    }
  },
  "cells": [
    {
      "cell_type": "markdown",
      "source": [
        "Files, exceptional handling,\n",
        "logging and memory\n",
        "management"
      ],
      "metadata": {
        "id": "Um5fK1YakaA2"
      }
    },
    {
      "cell_type": "markdown",
      "source": [
        "Q1.What is the difference between interpreted and compiled languages?\n",
        "Ans1 Compiled Languages → whole program converted to machine code first → fast, efficient.Errors are detected during compilation before running the program.\n",
        "\n",
        "Interpreted Languages → program executed on the fly → slower but flexible and easy to test.\n",
        "Errors are detected at runtime, line by line.\n",
        "\n",
        "Q2.What is exception handling in Python?\n",
        "Ans2 Exception handling in Python is a mechanism to handle runtime errors so that the program does not crash and can continue executing gracefully.\n",
        "\n",
        "An exception is an error that occurs during the execution of a program (e.g., dividing by zero, accessing a missing file).\n",
        "\n",
        "Python provides try-except blocks to catch and handle these exceptions.\n",
        "\n",
        "Q3.What is the purpose of the finally block in exception handling?\n",
        "Ans3 The finally block is used to execute code no matter what happens in the try and except blocks.\n",
        "\n",
        "It is always executed, whether an exception occurs or not.\n",
        "\n",
        "Commonly used for cleanup actions like closing files, releasing resources, or terminating connections.\n",
        "\n",
        "Q4.What is logging in Python?\n",
        "Ans4 Logging in Python is a way to track events that happen while a program runs.\n",
        "\n",
        "It is used for debugging, monitoring, and auditing your application.\n",
        "\n",
        "Unlike print(), logging can record messages with different severity levels and can be saved to files or external systems.\n",
        "\n",
        "Q5. What is the significance of the __del__ method in Python?\n",
        "Ans5  The __del__ method is also called a destructor.\n",
        "\n",
        "It is automatically called when an object is about to be destroyed (i.e., when there are no references to it).\n",
        "\n",
        "Its main purpose is to perform cleanup actions, such as releasing resources or closing files.\n",
        "\n",
        "class FileHandler:\n",
        "    def __init__(self, filename):\n",
        "        self.filename = filename\n",
        "        print(f\"File {self.filename} opened.\")\n",
        "\n",
        "    def __del__(self):\n",
        "        print(f\"File {self.filename} closed.\")  # cleanup code\n",
        "\n",
        "# Testing\n",
        "f = FileHandler(\"data.txt\")\n",
        "del f\n",
        "\n",
        "Q6.What is the difference between import and from ... import in Python?\n",
        "Ans6 Imports the entire module.\n",
        "\n",
        "To use functions or variables, you must prefix them with the module name (math.sqrt).\n",
        "\n",
        "Helps avoid name conflicts with other modules.\n",
        "\n",
        "from ... import\n",
        "\n",
        "Imports specific functions, classes, or variables from a module.\n",
        "\n",
        "You can use them directly without the module name.\n",
        "\n",
        "Less typing, but can lead to name conflicts if multiple modules have same function names.\n",
        "\n",
        "Q7.How can you handle multiple exceptions in Python?\n",
        "Ans7 You can have separate except blocks for different exceptions.\n",
        "\n",
        "try:\n",
        "    num = int(input(\"Enter a number: \"))\n",
        "    result = 10 / num\n",
        "except ValueError:\n",
        "    print(\"Invalid input! Please enter an integer.\")\n",
        "except ZeroDivisionError:\n",
        "    print(\"Cannot divide by zero!\")\n",
        "\n",
        "\n",
        "Q8  What is the purpose of the with statement when handling files in Python?\n",
        "Ans8 Automatically manages resources:\n",
        "Ensures that the file is properly closed after its suite finishes, even if an exception occurs.\n",
        "Cleaner code:\n",
        "No need to explicitly call file.close().\n",
        "\n",
        "Q9 What is the difference between multithreading and multiprocessing?\n",
        "Ans9 Running multiple threads within a single process.\n",
        "\n",
        "Memory: Threads share the same memory space.\n",
        "\n",
        "Best for: I/O-bound tasks (like reading files, network requests).\n",
        "\n",
        "Limitation: Python’s Global Interpreter Lock (GIL) allows only one thread to execute Python bytecode at a time — CPU-bound tasks don’t get true parallelism.\n",
        "\n",
        "Multiprocessing\n",
        "\n",
        "Definition: Running multiple processes, each with its own Python interpreter and memory space.\n",
        "\n",
        "Memory: Processes have separate memory, no sharing by default.\n",
        "\n",
        "Best for: CPU-bound tasks (like heavy computations).\n",
        "\n",
        "Advantage: Bypasses GIL → truly parallel execution.\n",
        "\n",
        "Q10 What are the advantages of using logging in a program?\n",
        "Ans10 Logging provides a structured, persistent, and flexible way to track events, making debugging, monitoring, and maintaining programs much easier than using print statements.\n",
        "\n",
        "Q11 What is memory management in Python?\n",
        "Ans11 Memory management in Python refers to the process of allocating and deallocating memory to objects while the program runs.\n",
        "Python handles memory automatically, so developers usually don’t need to manually manage it like in C/C++.\n",
        "\n",
        "Q12 What are the basic steps involved in exception handling in Python?\n",
        "Ans12 try → Code that might cause an exception.\n",
        "\n",
        "except → Handle specific exceptions.\n",
        "\n",
        "else → Runs if no exception occurs.\n",
        "\n",
        "finally → Runs always, for cleanup tasks like closing files or releasing resources.\n",
        "\n",
        "Q13. Why is memory management important in Python?\n",
        "Ans13 Memory management in Python is important to use resources efficiently, prevent memory leaks, improve performance, and support large programs safely.\n",
        "\n",
        "Q14 What is the role of try and except in exception handling?\n",
        "Ans14 Contains code that might raise an exception.\n",
        "\n",
        "Python monitors this block for any errors during execution.\n",
        "\n",
        "If an error occurs, Python immediately stops executing the try block and looks for a matching\n",
        "\n",
        "Except:\n",
        "Handles the exception if one occurs in the try block.\n",
        "\n",
        "Allows the program to recover gracefully instead of crashing.\n",
        "\n",
        "You can handle specific exceptions or all exceptions.\n",
        "\n",
        "Q15.F How does Python's garbage collection system work?\n",
        "Ans 15 Garbage collection (GC) is Python’s way of automatically freeing memory used by objects that are no longer referenced.\n",
        "\n",
        "It helps prevent memory leaks and keeps programs efficient.\n",
        "\n",
        "Python uses reference counting combined with a cyclic garbage collector.\n",
        "\n",
        "Q16. What is the purpose of the else block in exception handling?\n",
        "Ans16 The else block in Python runs only if no exception occurs in the try block.\n",
        "\n",
        "It is useful for code that should execute only when everything in the try block succeeds.\n",
        "\n",
        "Helps separate normal execution from exception handling, making code cleaner and more readable.\n",
        "\n",
        "Q17.What are the common logging levels in Python?\n",
        "Ans17 Use DEBUG for development and troubleshooting.\n",
        "\n",
        "Use INFO for general application events.\n",
        "\n",
        "Use WARNING, ERROR, CRITICAL to highlight problems in production.\n",
        "\n",
        "You can filter logs by level when configuring the logger.\n",
        "\n",
        "Q18.What is the difference between os.fork() and multiprocessing in Python?\n",
        "Ans18 os.fork()\n",
        "\n",
        "Definition: Creates a new child process by duplicating the current process.\n",
        "\n",
        "Platform: Only available on Unix/Linux systems. Not available on Windows.\n",
        "\n",
        "Memory: Child process gets a copy of the parent’s memory (copy-on-write).\n",
        "\n",
        "Ease of Use: Low-level API — programmer has to manage IPC (inter-process communication) manually.\n",
        "\n",
        "Use Case: Low-level process control when you want to fork processes directly.\n",
        "\n",
        "multiprocessing Module\n",
        "\n",
        "Definition: High-level API to create and manage processes in a cross-platform way.\n",
        "\n",
        "Platform: Works on Unix/Linux and Windows.\n",
        "\n",
        "Memory: Each process has its own memory space; can share data using Queues, Pipes, or shared memory.\n",
        "\n",
        "Ease of Use: High-level and easier than os.fork(). Handles process creation, joining, and IPC.\n",
        "\n",
        "Use Case: For CPU-bound tasks or parallel computation in a platform-independent way.\n",
        "\n",
        "Q19. What is the importance of closing a file in Python?\n",
        "Ans19 Closing a file ensures data integrity, resource management, and safe access for your program and other applications.\n",
        "\n",
        "Q20.What is the difference between file.read() and file.readline() in Python?\n",
        "Ans20 file.read()\n",
        "\n",
        "Purpose: Reads the entire content of the file (or a specified number of bytes).\n",
        "\n",
        "Returns: A string containing the whole content.\n",
        "\n",
        "Behavior: Moves the file pointer to the end after reading.\n",
        "\n",
        "file.readline():-\n",
        "\n",
        "Purpose: Reads one line at a time from the file.\n",
        "\n",
        "Returns: A string containing the current line, including the newline character \\n.\n",
        "\n",
        "Behavior: Moves the file pointer to the next line after reading.\n",
        "\n",
        "Q21.What is the logging module in Python used for?\n",
        "Ans21 The logging module in Python is used to record events that happen while a program runs.\n",
        "\n",
        "Helps track errors, warnings, and general information about the program.\n",
        "\n",
        "Provides a flexible framework for reporting messages from your code.\n",
        "\n",
        "Can be configured to log to console, files, or external systems.\n",
        "\n",
        "Q22.What is the os module in Python used for in file handling?\n",
        "Ans22 The os module provides a way to interact with the operating system from Python.\n",
        "\n",
        "It allows you to create, delete, and manipulate files and directories.\n",
        "\n",
        "Useful for tasks like checking if a file exists, getting file paths, and navigating directories.\n",
        "\n",
        "Q23.What are the challenges associated with memory management in Python?\n",
        "Ans23 Python’s memory management is automatic, but challenges like memory leaks, circular references, high memory usage, and external resource management require developer attention.\n",
        "\n",
        "Q24. How do you raise an exception manually in Python?\n",
        "Ans24 In Python, you can use the raise statement to manually trigger an exception.\n",
        "\n",
        "This is useful when you want to signal an error in your code intentionally.\n",
        "\n",
        "You can raise built-in exceptions or custom exceptions.\n",
        "\n",
        "Q25.Why is it important to use multithreading in certain applications?\n",
        "Ans25 Multithreading allows a program to run multiple threads concurrently within a single process. This is particularly useful for I/O-bound or high-latency tasks.\n",
        "\n",
        "\n",
        "\n",
        "\n"
      ],
      "metadata": {
        "id": "cKL-BXEIkgnV"
      }
    },
    {
      "cell_type": "markdown",
      "source": [
        "Practical Questions"
      ],
      "metadata": {
        "id": "9R2_mY-7r73c"
      }
    },
    {
      "cell_type": "code",
      "source": [
        "#Q1 How can you open a file for writing in Python and write a string to it?\n",
        "f = open(\"example.txt\", \"w\")\n",
        "f.write(\"Hello, World!\")\n",
        "f.close()\n"
      ],
      "metadata": {
        "id": "edYoml81r-kH"
      },
      "execution_count": 1,
      "outputs": []
    },
    {
      "cell_type": "code",
      "execution_count": 2,
      "metadata": {
        "id": "77Q4pS6WjZod",
        "colab": {
          "base_uri": "https://localhost:8080/"
        },
        "outputId": "14f44b1b-2591-4dff-af80-448f95560f9f"
      },
      "outputs": [
        {
          "output_type": "stream",
          "name": "stdout",
          "text": [
            "Hello, World!\n"
          ]
        }
      ],
      "source": [
        "#Q2  Write a Python program to read the contents of a file and print each line?\n",
        "f = open(\"example.txt\", \"r\")\n",
        "for line in f:\n",
        "    print(line)\n",
        "f.close()"
      ]
    },
    {
      "cell_type": "code",
      "source": [
        "#Q3  How would you handle a case where the file doesn't exist while trying to open it for reading?\n",
        "\n",
        "  try:\n",
        "    # Try to open the file in read mode\n",
        "    with open(\"example.txt\", \"r\") as file:\n",
        "        content = file.read()\n",
        "        print(\"File Content:\")\n",
        "        print(content)\n",
        "\n",
        "# Handle the case where file is missing\n",
        " except FileNotFoundError:\n",
        "   print(\"Error: The file does not exist.\")\n",
        "\n",
        ""
      ],
      "metadata": {
        "id": "phrkk-g7sXB2"
      },
      "execution_count": null,
      "outputs": []
    },
    {
      "cell_type": "code",
      "source": [
        "#Q4 Write a Python script that reads from one file and writes its content to another file?\n",
        "try:\n",
        "    f1 = open(\"file1.txt\", \"r\")\n",
        "    f2 = open(\"file2.txt\", \"w\")\n",
        "    for line in f1:\n",
        "        f2.write(line)\n",
        "    f1.close()\n",
        "    f2.close()\n",
        "except FileNotFoundError:\n",
        "    print(\"Error: The file 'file1.txt' was not found.\")"
      ],
      "metadata": {
        "colab": {
          "base_uri": "https://localhost:8080/"
        },
        "id": "Jz5T0f1ytBH8",
        "outputId": "73dc989e-c2e3-42f2-ed1c-eb2172a65379"
      },
      "execution_count": 4,
      "outputs": [
        {
          "output_type": "stream",
          "name": "stdout",
          "text": [
            "Error: The file 'file1.txt' was not found.\n"
          ]
        }
      ]
    },
    {
      "cell_type": "code",
      "source": [
        "#Q5 :F How would you catch and handle division by zero error in Python?\n",
        "try:\n",
        "    num1 = int(input(\"Enter a number: \"))\n",
        "    num2 = int(input(\"Enter another number: \"))\n",
        "    result = num1 / num2\n",
        "    print(\"Result:\", result)\n",
        "except ZeroDivisionError:\n",
        "    print"
      ],
      "metadata": {
        "colab": {
          "base_uri": "https://localhost:8080/"
        },
        "id": "oTsnDyiMthSY",
        "outputId": "1ada4922-cd7a-4bad-e190-dd7ecef61bd8"
      },
      "execution_count": 5,
      "outputs": [
        {
          "output_type": "stream",
          "name": "stdout",
          "text": [
            "Enter a number: 4\n",
            "Enter another number: 4\n",
            "Result: 1.0\n"
          ]
        }
      ]
    },
    {
      "cell_type": "code",
      "source": [
        "#Q6 Write a Python program that logs an error message to a log file when a division by zero exception occurs?\n",
        "\n",
        "import logging\n",
        "\n",
        "\n",
        "logging.basicConfig(\n",
        "    filename=\"error_log.txt\",\n",
        "    level=logging.ERROR,        # log only errors or above\n",
        "    format=\"%(asctime)s - %(levelname)s - %(message)s\"\n",
        ")\n",
        "\n",
        "def divide_numbers(a, b):\n",
        "    try:\n",
        "        result = a / b\n",
        "        print(f\"Result: {result}\")\n",
        "    except ZeroDivisionError:\n",
        "        logging.error(\"Division by zero error occurred.\")\n",
        "        print(\"Error: Cannot divide by zero.\")\n",
        "\n",
        "\n",
        "\n",
        "\n"
      ],
      "metadata": {
        "id": "TFL_8-HGtof2"
      },
      "execution_count": 6,
      "outputs": []
    },
    {
      "cell_type": "code",
      "source": [
        "#Q7 How do you log information at different levels (INFO, ERROR, WARNING) in Python using the logging module?\n",
        "\n",
        "import logging\n",
        "\n",
        "# Configure logging\n",
        "logging.basicConfig(\n",
        "    filename=\"app.log\",             # log file name\n",
        "    level=logging.DEBUG,            # capture all levels >= DEBUG\n",
        "    format=\"%(asctime)s - %(levelname)s - %(message)s\"\n",
        ")\n",
        "\n",
        "# Logging messages at different levels\n",
        "logging.debug(\"This is a DEBUG message (useful for developers).\")\n",
        "logging.info(\"This is an INFO message (general information).\")\n",
        "logging.warning(\"This is a WARNING message (something unexpected happened).\")\n",
        "logging.error(\"This is an ERROR message (a problem occurred).\")\n",
        "logging.critical(\"This is a CRITICAL message (serious error, program may stop).\")\n"
      ],
      "metadata": {
        "colab": {
          "base_uri": "https://localhost:8080/"
        },
        "id": "OcH8UxxUt7wE",
        "outputId": "0d2ffc98-407c-4447-f256-1a96c344005d"
      },
      "execution_count": 7,
      "outputs": [
        {
          "output_type": "stream",
          "name": "stderr",
          "text": [
            "WARNING:root:This is a WARNING message (something unexpected happened).\n",
            "ERROR:root:This is an ERROR message (a problem occurred).\n",
            "CRITICAL:root:This is a CRITICAL message (serious error, program may stop).\n"
          ]
        }
      ]
    },
    {
      "cell_type": "code",
      "source": [
        "#Q8 Write a program to handle a file opening error using exception handling?\n",
        "\n",
        "try:\n",
        "    # Try to open the file in read mode\n",
        "    with open(\"example.txt\", \"r\") as file:\n",
        "        content = file.read()\n",
        "        print(\"File content:\\n\", content)\n",
        "\n",
        "except FileNotFoundError:\n",
        "    # Handle case when the file does not exist\n",
        "    print(\"Error: The file 'data.txt' was not found.\")\n",
        "\n",
        "except PermissionError:\n",
        "    # Handle case when file exists but no permission to read\n",
        "    print(\"Error: You do not have permission to open this file.\")\n",
        "\n",
        "except Exception as e:\n",
        "    # Catch any other unexpected error\n",
        "    print(f\"An unexpected error occurred: {e}\")\n"
      ],
      "metadata": {
        "colab": {
          "base_uri": "https://localhost:8080/"
        },
        "id": "C2vDaLMCuPJp",
        "outputId": "c31950b7-05df-4d63-d857-172a9295782d"
      },
      "execution_count": 10,
      "outputs": [
        {
          "output_type": "stream",
          "name": "stdout",
          "text": [
            "File content:\n",
            " Hello, World!\n"
          ]
        }
      ]
    },
    {
      "cell_type": "code",
      "source": [
        "#Q9 How can you read a file line by line and store its content in a list in Python?\n",
        "\n",
        "try:\n",
        "    with open(\"example.txt\", \"r\") as file:\n",
        "        lines = file.readlines()   # Reads all lines into a list\n",
        "        lines = [line.strip() for line in lines]  # Remove \\n from each line\n",
        "\n",
        "    print(\"File content as list:\", lines)\n",
        "\n",
        "except FileNotFoundError:\n",
        "    print(\"Error: The file was not found.\")\n",
        "\n"
      ],
      "metadata": {
        "colab": {
          "base_uri": "https://localhost:8080/"
        },
        "id": "mbKFVwhTu0lk",
        "outputId": "44535faa-fc2c-4a12-ef08-2b4981e169f8"
      },
      "execution_count": 9,
      "outputs": [
        {
          "output_type": "stream",
          "name": "stdout",
          "text": [
            "File content as list: ['Hello, World!']\n"
          ]
        }
      ]
    },
    {
      "cell_type": "code",
      "source": [
        "#Q10 How can you append data to an existing file in Python?\n",
        "\n",
        "try:\n",
        "    with open(\"example.txt\", \"a\") as file:\n",
        "        file.write(\"\\nThis is a new line added at the end.\")\n",
        "\n",
        "    print(\"Data appended successfully!\")\n",
        "\n",
        "except Exception as e:\n",
        "    print(\"Error:\", e)\n"
      ],
      "metadata": {
        "colab": {
          "base_uri": "https://localhost:8080/"
        },
        "id": "xSLsd4E9vRjW",
        "outputId": "fe697092-fe2e-476d-fc8f-f289fe4083e5"
      },
      "execution_count": 11,
      "outputs": [
        {
          "output_type": "stream",
          "name": "stdout",
          "text": [
            "Data appended successfully!\n"
          ]
        }
      ]
    },
    {
      "cell_type": "code",
      "source": [
        "#Q11 Write a Python program that uses a try-except block to handle an error when attempting to access a dictionary key that doesn't exist\n",
        "\n",
        "# Dictionary\n",
        "student = {\n",
        "    \"name\": \"Aarsh\",\n",
        "    \"age\": 22,\n",
        "    \"course\": \"BTech\"\n",
        "}\n",
        "\n",
        "try:\n",
        "    # Trying to access a key that does not exist\n",
        "    print(\"Marks:\", student[\"marks\"])\n",
        "\n",
        "except KeyError:\n",
        "    print(\"Error: The key 'marks' does not exist in the dictionary.\")\n"
      ],
      "metadata": {
        "colab": {
          "base_uri": "https://localhost:8080/"
        },
        "id": "uECC-uJGvgzd",
        "outputId": "02cf597d-3ac9-469f-e186-b1f824abbb3d"
      },
      "execution_count": 12,
      "outputs": [
        {
          "output_type": "stream",
          "name": "stdout",
          "text": [
            "Error: The key 'marks' does not exist in the dictionary.\n"
          ]
        }
      ]
    },
    {
      "cell_type": "code",
      "source": [
        "#Q12  Write a program that demonstrates using multiple except blocks to handle different types of exceptions?\n",
        "\n",
        "try:\n",
        "    num1 = int(input(\"Enter first number: \"))\n",
        "    num2 = int(input(\"Enter second number: \"))\n",
        "\n",
        "    result = num1 / num2   # Might raise ZeroDivisionError\n",
        "    print(\"Result:\", result)\n",
        "\n",
        "    # Accessing a dictionary key that might not exist\n",
        "    data = {\"name\": \"Aarsh\", \"age\": 22}\n",
        "    print(\"Marks:\", data[\"marks\"])\n",
        "\n",
        "except ZeroDivisionError:\n",
        "    print(\"Error: Cannot divide by zero.\")\n",
        "\n",
        "except ValueError:\n",
        "    print(\"Error: Invalid input! Please enter a number.\")\n",
        "\n",
        "except KeyError:\n",
        "    print(\"Error: The requested key does not exist in the dictionary.\")\n",
        "\n",
        "except Exception as e:\n",
        "    # Catches any other unexpected exception\n",
        "    print(\"An unexpected error occurred:\", e)\n"
      ],
      "metadata": {
        "colab": {
          "base_uri": "https://localhost:8080/"
        },
        "id": "t5YIdxn_v5Kj",
        "outputId": "79cd45b6-81f7-4f82-b139-631fdebb5499"
      },
      "execution_count": 13,
      "outputs": [
        {
          "output_type": "stream",
          "name": "stdout",
          "text": [
            "Enter first number: 8\n",
            "Enter second number: 4\n",
            "Result: 2.0\n",
            "Error: The requested key does not exist in the dictionary.\n"
          ]
        }
      ]
    },
    {
      "cell_type": "code",
      "source": [
        "#Q13How would you check if a file exists before attempting to read it in Python?\n",
        "\n",
        "import os\n",
        "\n",
        "filename = \"example.txt\"\n",
        "\n",
        "if os.path.exists(filename):\n",
        "    with open(filename, \"r\") as file:\n",
        "        content = file.read()\n",
        "        print(\"File content:\\n\", content)\n",
        "else:\n",
        "    print(\"Error: File does not exist.\")\n"
      ],
      "metadata": {
        "colab": {
          "base_uri": "https://localhost:8080/"
        },
        "id": "ALmS3fNMwH5s",
        "outputId": "d4c9031d-b716-45b7-cece-3eb7e13db290"
      },
      "execution_count": 15,
      "outputs": [
        {
          "output_type": "stream",
          "name": "stdout",
          "text": [
            "File content:\n",
            " Hello, World!\n",
            "This is a new line added at the end.\n"
          ]
        }
      ]
    },
    {
      "cell_type": "code",
      "source": [
        "# Q14 F Write a program that uses the logging module to log both informational and error messages?\n",
        "import logging\n",
        "\n",
        "# Configure logging\n",
        "logging.basicConfig(\n",
        "    filename=\"app.log\",          # Log messages will be saved in app.log\n",
        "    level=logging.DEBUG,         # Capture all messages from DEBUG and above\n",
        "    format=\"%(asctime)s - %(levelname)s - %(message)s\"\n",
        ")\n",
        "\n",
        "# Example usage\n",
        "def divide(a, b):\n",
        "    try:\n",
        "        logging.info(f\"Trying to divide {a} by {b}\")\n",
        "        result = a / b\n",
        "        logging.info(f\"Division successful: {result}\")\n",
        "        return result\n",
        "    except ZeroDivisionError:\n",
        "        logging.error(\"Division by zero error occurred!\")\n",
        "        return None\n",
        "\n",
        "\n",
        "# Test cases\n",
        "divide(10, 2)   # Logs INFO messages\n",
        "divide(5, 0)    # Logs ERROR message\n",
        "\n",
        "print(\"Check the app.log file for log messages.\")\n"
      ],
      "metadata": {
        "colab": {
          "base_uri": "https://localhost:8080/"
        },
        "id": "wbRw9LrIwaNL",
        "outputId": "04102a30-5031-49e6-e29f-7805057ede26"
      },
      "execution_count": 16,
      "outputs": [
        {
          "output_type": "stream",
          "name": "stderr",
          "text": [
            "ERROR:root:Division by zero error occurred!\n"
          ]
        },
        {
          "output_type": "stream",
          "name": "stdout",
          "text": [
            "Check the app.log file for log messages.\n"
          ]
        }
      ]
    },
    {
      "cell_type": "code",
      "source": [
        "#Q15 Write a Python program that prints the content of a file and handles the case when the file is empty?\n",
        "\n",
        "try:\n",
        "    with open(\"example.txt\", \"r\") as file:\n",
        "        content = file.read()\n",
        "\n",
        "        if content.strip():   # Check if file is not empty\n",
        "            print(\"File Content:\\n\", content)\n",
        "        else:\n",
        "            print(\"The file is empty.\")\n",
        "\n",
        "except FileNotFoundError:\n",
        "    print(\"Error: The file does not exist.\")\n"
      ],
      "metadata": {
        "colab": {
          "base_uri": "https://localhost:8080/"
        },
        "id": "lX_8EGgEwmlw",
        "outputId": "0684a5ec-df51-466d-b936-34bb7fbaa2aa"
      },
      "execution_count": 17,
      "outputs": [
        {
          "output_type": "stream",
          "name": "stdout",
          "text": [
            "File Content:\n",
            " Hello, World!\n",
            "This is a new line added at the end.\n"
          ]
        }
      ]
    },
    {
      "cell_type": "code",
      "metadata": {
        "colab": {
          "base_uri": "https://localhost:8080/"
        },
        "id": "99421ce0",
        "outputId": "421a216e-e82b-41a3-fd25-61d50a877f8d"
      },
      "source": [
        "#Q16 Demonstrate how to use memory profiling to check the memory usage of a small program?\n",
        "\n",
        "!pip install memory-profiler\n",
        "\n",
        "from memory_profiler import profile\n",
        "\n",
        "@profile\n",
        "def create_list():\n",
        "    # Create a large list\n",
        "    data = [i for i in range(1000000)]\n",
        "    print(\"List created with\", len(data), \"items.\")\n",
        "\n",
        "@profile\n",
        "def main():\n",
        "    create_list()\n",
        "\n",
        "if __name__ == \"__main__\":\n",
        "    main()\n",
        "\n",
        "\n",
        "\n"
      ],
      "execution_count": 25,
      "outputs": [
        {
          "output_type": "stream",
          "name": "stdout",
          "text": [
            "Requirement already satisfied: memory-profiler in /usr/local/lib/python3.12/dist-packages (0.61.0)\n",
            "Requirement already satisfied: psutil in /usr/local/lib/python3.12/dist-packages (from memory-profiler) (5.9.5)\n",
            "ERROR: Could not find file /tmp/ipython-input-3141369564.py\n",
            "ERROR: Could not find file /tmp/ipython-input-3141369564.py\n",
            "List created with 1000000 items.\n"
          ]
        }
      ]
    },
    {
      "cell_type": "code",
      "source": [
        "#Q17 Write a Python program to create and write a list of numbers to a file, one number per line?\n",
        "\n",
        "numbers = [10, 20, 30, 40, 50]  # List of numbers\n",
        "\n",
        "try:\n",
        "    with open(\"numbers.txt\", \"w\") as file:\n",
        "        for num in numbers:\n",
        "            file.write(str(num) + \"\\n\")  # Write each number on a new line\n",
        "\n",
        "    print(\"Numbers written to numbers.txt successfully!\")\n",
        "\n",
        "except Exception as e:\n",
        "    print(\"Error while writing to file:\", e)\n"
      ],
      "metadata": {
        "colab": {
          "base_uri": "https://localhost:8080/"
        },
        "id": "6pyJ8_unyB0l",
        "outputId": "d54b7792-b6d2-4fed-f825-47fffb9298e8"
      },
      "execution_count": 26,
      "outputs": [
        {
          "output_type": "stream",
          "name": "stdout",
          "text": [
            "Numbers written to numbers.txt successfully!\n"
          ]
        }
      ]
    },
    {
      "cell_type": "code",
      "source": [
        "#Q18 How would you implement a basic logging setup that logs to a file with rotation after 1MB\n",
        "import logging\n",
        "from logging.handlers import RotatingFileHandler\n",
        "\n",
        "# Create a logger\n",
        "logger = logging.getLogger(\"MyLogger\")\n",
        "logger.setLevel(logging.DEBUG)  # Capture all levels (DEBUG and above)\n",
        "\n",
        "# Create a rotating file handler (1 MB per file, keep 3 backups)\n",
        "handler = RotatingFileHandler(\n",
        "    \"app.log\", maxBytes=1_000_000, backupCount=3\n",
        ")\n",
        "\n",
        "# Format logs\n",
        "formatter = logging.Formatter(\"%(asctime)s - %(levelname)s - %(message)s\")\n",
        "handler.setFormatter(formatter)\n",
        "\n",
        "# Add handler to logger\n",
        "logger.addHandler(handler)\n",
        "\n",
        "# Example logging\n",
        "for i in range(10000):\n",
        "    logger.info(f\"Log message {i}\")\n"
      ],
      "metadata": {
        "id": "cWijAxMSypdH"
      },
      "execution_count": null,
      "outputs": []
    },
    {
      "cell_type": "code",
      "source": [
        "#Q19 Write a program that handles both IndexError and KeyError using a try-except block?\n",
        "\n",
        "# Sample list and dictionary\n",
        "my_list = [10, 20, 30]\n",
        "my_dict = {\"name\": \"Aarsh\", \"age\": 22}\n",
        "\n",
        "try:\n",
        "    # Accessing out-of-range index → IndexError\n",
        "    print(\"List item:\", my_list[5])\n",
        "\n",
        "    # Accessing missing key → KeyError\n",
        "    print(\"Marks:\", my_dict[\"marks\"])\n",
        "\n",
        "except IndexError:\n",
        "    print(\"Error: Tried to access an index that does not exist in the list.\")\n",
        "\n",
        "except KeyError:\n",
        "    print(\"Error: Tried to access a key that does not exist in the dictionary.\")\n"
      ],
      "metadata": {
        "colab": {
          "base_uri": "https://localhost:8080/"
        },
        "id": "9I9aiUsDyxbk",
        "outputId": "6de40add-eb6e-4ccc-a7d5-fbce013ddd90"
      },
      "execution_count": 1,
      "outputs": [
        {
          "output_type": "stream",
          "name": "stdout",
          "text": [
            "Error: Tried to access an index that does not exist in the list.\n"
          ]
        }
      ]
    },
    {
      "cell_type": "code",
      "source": [
        "#Q20 How would you open a file and read its contents using a context manager in Python?\n",
        "\n",
        "try:\n",
        "    with open(\"example.txt\", \"r\") as file:\n",
        "        content = file.read()   # Reads whole file\n",
        "        print(\"File Content:\\n\", content)\n",
        "\n",
        "except FileNotFoundError:\n",
        "    print(\"Error: The file does not exist.\")\n",
        "\n",
        "\n"
      ],
      "metadata": {
        "colab": {
          "base_uri": "https://localhost:8080/"
        },
        "id": "8hdUHOtxy9vq",
        "outputId": "f2bba347-2f5f-4623-c716-a561e3e26ffd"
      },
      "execution_count": 3,
      "outputs": [
        {
          "output_type": "stream",
          "name": "stdout",
          "text": [
            "File Content:\n",
            " Hello, World!\n",
            "This is a new line added at the end.\n"
          ]
        }
      ]
    },
    {
      "cell_type": "code",
      "source": [
        "#Q21 Write a Python program that reads a file and prints the number of occurrences of a specific word\n",
        "\n",
        "def count_word_occurrences(filename, word):\n",
        "    try:\n",
        "        with open(filename, \"r\") as file:\n",
        "            content = file.read().lower()   # Convert to lowercase for case-insensitive match\n",
        "\n",
        "        # Count occurrences of the word\n",
        "        count = content.split().count(word.lower())\n",
        "        print(f\"The word '{word}' occurs {count} times in {filename}.\")\n",
        "\n",
        "    except FileNotFoundError:\n",
        "        print(\"Error: The file does not exist.\")\n",
        "\n",
        "# Example usage\n",
        "count_word_occurrences(\"example.txt\", \"python\")\n"
      ],
      "metadata": {
        "colab": {
          "base_uri": "https://localhost:8080/"
        },
        "id": "IrOa6u7OzQcj",
        "outputId": "807b3482-dee1-45fb-c7b3-daf82eed167b"
      },
      "execution_count": 4,
      "outputs": [
        {
          "output_type": "stream",
          "name": "stdout",
          "text": [
            "The word 'python' occurs 0 times in example.txt.\n"
          ]
        }
      ]
    },
    {
      "cell_type": "code",
      "source": [
        "#Q22 How can you check if a file is empty before attempting to read its contents?\n",
        "\n",
        "import os\n",
        "\n",
        "filename = \"example.txt\"\n",
        "\n",
        "if os.path.exists(filename) and os.path.getsize(filename) > 0:\n",
        "    with open(filename, \"r\") as file:\n",
        "        content = file.read()\n",
        "        print(\"File content:\\n\", content)\n",
        "else:\n",
        "    print(\"The file is empty or does not exist.\")\n",
        "\n"
      ],
      "metadata": {
        "colab": {
          "base_uri": "https://localhost:8080/"
        },
        "id": "bH0ooAWjzjKs",
        "outputId": "f75e44e4-6a4a-478a-e7b1-567fbcb5ea71"
      },
      "execution_count": 5,
      "outputs": [
        {
          "output_type": "stream",
          "name": "stdout",
          "text": [
            "File content:\n",
            " Hello, World!\n",
            "This is a new line added at the end.\n"
          ]
        }
      ]
    },
    {
      "cell_type": "code",
      "source": [
        "#Q23 Write a Python program that writes to a log file when an error occurs during file handling.\n",
        "\n",
        "import logging\n",
        "\n",
        "# Configure logging to write errors to a file\n",
        "logging.basicConfig(\n",
        "    filename=\"file_errors.log\",  # Log file\n",
        "    level=logging.ERROR,         # Log only errors\n",
        "    format=\"%(asctime)s - %(levelname)s - %(message)s\"\n",
        ")\n",
        "\n",
        "try:\n",
        "    # Attempt to open a non-existent file\n",
        "    with open(\"data.txt\", \"r\") as file:\n",
        "        content = file.read()\n",
        "        print(content)\n",
        "\n",
        "except FileNotFoundError as e:\n",
        "    logging.error(f\"FileNotFoundError: {e}\")\n",
        "    print(\"Error: The file does not exist.\")\n",
        "\n",
        "except PermissionError as e:\n",
        "    logging.error(f\"PermissionError: {e}\")\n",
        "    print(\"Error: Permission denied.\")\n",
        "\n",
        "except Exception as e:\n",
        "    logging.error(f\"Unexpected error: {e}\")\n",
        "    print(\"An unexpected error occurred.\")\n"
      ],
      "metadata": {
        "colab": {
          "base_uri": "https://localhost:8080/"
        },
        "id": "DfKOiqHtzwYW",
        "outputId": "0fe48867-2100-48f9-c8ac-7ee103cbfc74"
      },
      "execution_count": 6,
      "outputs": [
        {
          "output_type": "stream",
          "name": "stderr",
          "text": [
            "ERROR:root:FileNotFoundError: [Errno 2] No such file or directory: 'data.txt'\n"
          ]
        },
        {
          "output_type": "stream",
          "name": "stdout",
          "text": [
            "Error: The file does not exist.\n"
          ]
        }
      ]
    }
  ]
}