{
  "nbformat": 4,
  "nbformat_minor": 0,
  "metadata": {
    "colab": {
      "provenance": []
    },
    "kernelspec": {
      "name": "python3",
      "display_name": "Python 3"
    },
    "language_info": {
      "name": "python"
    }
  },
  "cells": [
    {
      "cell_type": "code",
      "execution_count": null,
      "metadata": {
        "id": "KXkRQuGDJdtr"
      },
      "outputs": [],
      "source": []
    },
    {
      "cell_type": "markdown",
      "source": [
        "Python Opps Questions"
      ],
      "metadata": {
        "id": "PI9zlpHgJmeP"
      }
    },
    {
      "cell_type": "markdown",
      "source": [
        "Q1.What is Object-Oriented Programming (OOP)?\n",
        "Ans1 Object-Oriented Programming (OOP) is a programming paradigm based on the concept of objects, which bundle data (attributes) and behaviors (methods) together.\n",
        "\n",
        "Instead of writing code in functions only (procedural programming), OOP lets you model real-world things as classes and objects.\n",
        "\n",
        "Q2.What is a class in OOP?\n",
        "Ans2 A class defines the properties (attributes/variables) and behaviors (methods/functions) that objects created from it will have.\n",
        "An object is an instance of a class.\n",
        "\n",
        "Q3.What is an object in OOP?\n",
        "Ans3An object is a real-world entity or an instance of a class.\n",
        "It contains:\n",
        "Attributes (data/state) → stored in variables\n",
        "Methods (behavior) → functions that act on the object\n",
        "\n",
        "Q4.What is the difference between abstraction and encapsulation?\n",
        "Ans4 Abstraction\n",
        "Focus: Hiding implementation details and showing only the necessary features.\n",
        "Encapsulation\n",
        "Focus: Hiding data and restricting direct access to it\n",
        "\n",
        "Q5.What are dunder methods in Python?\n",
        "Ans5 Dunder stands for “double underscore”.Dunder methods are special built-in methods in Python whose names start and end with __.They are also called magic methods because Python automatically calls them in certain situations (you don’t call them directly most of the time).\n",
        "\n",
        "Q6.Explain the concept of inheritance in OOP?\n",
        "Ans6 Inheritance in OOP means a class (child/derived class) can acquire the properties and behaviors of another class (parent/base class).\n",
        "This allows code reusability and makes it easy to extend or modify functionality.\n",
        "\n",
        "Q7. What is polymorphism in OOP?\n",
        "Ans7 The word polymorphism comes from Greek:\n",
        "\n",
        "poly = many\n",
        "\n",
        "morph = forms\n",
        "In OOP, polymorphism means the same function/method/operator can behave differently depending on the object it is acting on.\n",
        "\n",
        "Q8.How is encapsulation achieved in Python?\n",
        "Ans8 In Python, encapsulation is done using access modifiers:\n",
        "\n",
        "Public member\n",
        "Accessible from anywhere.\n",
        "By default, all attributes/methods are public.\n",
        "\n",
        "class Car:\n",
        "    def __init__(self, brand):\n",
        "        self.brand = brand   # public\n",
        "\n",
        "c = Car(\"Tesla\")\n",
        "print(c.brand)\n",
        "\n",
        "Protected Members (Single Underscore _var)\n",
        "\n",
        "Convention: intended for internal use only, but still accessible from outside (Python doesn’t enforce strict protection).\n",
        "\n",
        "class Car:\n",
        "    def __init__(self, brand, model):\n",
        "        self._model = model   # protected\n",
        "\n",
        "c = Car(\"Tesla\", \"Model S\")\n",
        "print(c._model)   #  Accessible, but should be avoided\n",
        "\n",
        "Private Members\n",
        "\n",
        "Name mangling (_ClassName__var) makes them harder to access from outside.\n",
        "\n",
        "True encapsulation in Python.\n",
        "\n",
        "class BankAccount:\n",
        "    def __init__(self, balance):\n",
        "        self.__balance = balance   # private\n",
        "\n",
        "    def deposit(self, amount):\n",
        "        self.__balance += amount\n",
        "\n",
        "    def get_balance(self):\n",
        "        return self.__balance\n",
        "\n",
        "acc = BankAccount(1000)\n",
        "acc.deposit(500)\n",
        "print(acc.get_balance())   #1500\n",
        "\n",
        "# print(acc.__balance)   \n",
        "\n",
        "Q9.What is a constructor in Python?\n",
        "Ans9 In OOP (Object-Oriented Programming), a constructor is a special method that is automatically called when an object is created.\n",
        " In Python, the constructor method is __init__().\n",
        "\n",
        "Q10.What are class and static methods in Python?\n",
        "Ans10 Class Methods\n",
        "\n",
        "Declared with @classmethod decorator.\n",
        "\n",
        "First parameter is cls (refers to the class, not object).\n",
        "\n",
        "Can access/modify class variables, but not instance variables.\n",
        "\n",
        "class Student:\n",
        "    school_name = \"CU\"   # class variable\n",
        "\n",
        "    @classmethod\n",
        "    def change_school(cls, name):\n",
        "        cls.school_name = name\n",
        "\n",
        "print(Student.school_name)   # CU\n",
        "Student.change_school(\"IIT\")\n",
        "print(Student.school_name)   # IIT\n",
        "\n",
        "\n",
        "Use case: When you want to work with class-level data (shared among all objects).\n",
        "\n",
        "Static Method\n",
        "\n",
        "Static Methods\n",
        "\n",
        "Declared with @staticmethod decorator.\n",
        "\n",
        "No self (object) and no cls (class) parameter.\n",
        "\n",
        "Behaves like a normal function inside a class, just grouped for logical organization.\n",
        "\n",
        "class Math:\n",
        "    @staticmethod\n",
        "    def add(a, b):\n",
        "        return a + b\n",
        "\n",
        "print(Math.add(5, 10))   # 15\n",
        "Use case: When the method does not need object or class data, but logically belongs to the class.\n",
        "\n",
        "Q11.What is method overloading in Python?\n",
        "Ans11 Method overloading means having multiple methods with the same name but different parameters (number or type).\n",
        "If you define a method with the same name multiple times, the latest definition overrides the previous one.\n",
        "class Demo:\n",
        "    def greet(self, name):\n",
        "        print(f\"Hello {name}\")\n",
        "\n",
        "    def greet(self):   # This overrides the first greet()\n",
        "        print(\"Hello there!\")\n",
        "\n",
        "obj = Demo()\n",
        "obj.greet()   # Output: Hello there!\n",
        "# obj.greet(\"Aarsh\")   #TypeError\n",
        "\n",
        "Q12.What is method overriding in OOP?\n",
        "Ans12 Method overriding happens when a child class provides a new implementation of a method that already exists in the parent class, using the same method name and parameters.\n",
        "\n",
        "It’s a type of runtime polymorphism.\n",
        "\n",
        "Q13.What is a property decorator in Python?\n",
        "Ans13 The @property decorator is used to define getters, setters, and deleters in a clean, Pythonic way without explicitly calling methods like get_value() or set_value().\n",
        "It allows you to access methods like attributes.\n",
        " Helps in encapsulation (controlled access to private variables).\n",
        "\n",
        "Q14.Why is polymorphism important in OOP?\n",
        "Ans 14 Polymorphism means \"many forms\" — the same interface (method/operator) can behave differently depending on the object.\n",
        "\n",
        "Q15.What is an abstract class in Python?\n",
        "Ans15 An abstract class is a class that cannot be instantiated directly and may contain one or more abstract methods (methods declared but not implemented).\n",
        "\n",
        "Abstract classes serve as blueprints for other classes.\n",
        "\n",
        "They enforce that child classes must implement certain methods.\n",
        "\n",
        "Defined using the abc module (ABC and abstractmethod)\n",
        "\n",
        "from abc import ABC, abstractmethod\n",
        "\n",
        "class Shape(ABC):   # abstract class\n",
        "    @abstractmethod\n",
        "    def area(self):\n",
        "        pass\n",
        "\n",
        "    @abstractmethod\n",
        "    def perimeter(self):\n",
        "        pass\n",
        "\n",
        "# Cannot instantiate abstract class\n",
        "# s = Shape()   # Error\n",
        "\n",
        "class Rectangle(Shape):\n",
        "    def __init__(self, w, h):\n",
        "        self.w = w\n",
        "        self.h = h\n",
        "\n",
        "    def area(self):\n",
        "        return self.w * self.h\n",
        "\n",
        "    def perimeter(self):\n",
        "        return 2 * (self.w + self.h)\n",
        "\n",
        "r = Rectangle(5, 3)\n",
        "print(r.area())       # 15\n",
        "print(r.perimeter())  # 16\n",
        "\n",
        "\n",
        "Q16.What are the advantages of OOP?\n",
        "Ans16 Code is organized into classes and objects.\n",
        "Once a class is written, it can be reused across programs.(resuability)\n",
        "\n",
        "Encapsulation (Data Hiding)\n",
        "\n",
        "Internal details are hidden, and controlled access is given via getters/setters or @property.\n",
        "\n",
        "Protects data from accidental modification.\n",
        "\n",
        "Q17.What is the difference between a class variable and an instance variable?\n",
        "Ans17 nstance variable → belongs to object → unique data.\n",
        "\n",
        "Class variable → belongs to class → shared data.\n",
        "\n",
        "class Student:\n",
        "    # Class variable (shared by all students)\n",
        "    school_name = \"CU\"\n",
        "\n",
        "    def __init__(self, name):\n",
        "        # Instance variable (unique to each object)\n",
        "        self.name = name\n",
        "\n",
        "# Create two objects\n",
        "s1 = Student(\"Aarsh\")\n",
        "s2 = Student(\"Rahul\")\n",
        "\n",
        "# Accessing variables\n",
        "print(s1.name)        # Aarsh (instance variable)\n",
        "print(s2.name)        # Rahul (instance variable)\n",
        "print(s1.school_name) # CU (class variable)\n",
        "print(s2.school_name) # CU (class variable)\n",
        "\n",
        "# Changing instance variable\n",
        "s1.name = \"Arjun\"\n",
        "print(s1.name)  # Arjun\n",
        "print(s2.name)  # Rahul (unchanged)\n",
        "\n",
        "#Changing class variable\n",
        "Student.school_name = \"IIT\"\n",
        "print(s1.school_name)  # IIT (changed for all)\n",
        "print(s2.school_name)  # IIT\n",
        "\n",
        "class variable also accesesd by the object/instance\n",
        "\n",
        "Q18.H What is multiple inheritance in Python?\n",
        "Ans18 Multiple inheritance means a class can inherit from more than one parent class.\n",
        "\n",
        "In other words, a child class can access attributes and methods of multiple base classes.\n",
        "\n",
        "class Father:\n",
        "    def skills(self):\n",
        "        print(\"Father: Driving, Cooking\")\n",
        "\n",
        "class Mother:\n",
        "    def skills(self):\n",
        "        print(\"Mother: Painting, Dancing\")\n",
        "\n",
        "class Child(Father, Mother):\n",
        "    def skills(self):\n",
        "        super().skills()  # follows MRO (Father first here)\n",
        "        print(\"Child: Python, Gaming\")\n",
        "\n",
        "c = Child()\n",
        "c.skills()\n",
        "\n",
        "Q19.Explain the purpose of ‘’__str__’ and ‘__repr__’ ‘ methods in Python?\n",
        "Ans19 _repr__ (Developer-Friendly Representation)\n",
        "\n",
        "Goal → Unambiguous representation of the object.\n",
        "\n",
        "Used for debugging and logging.\n",
        "\n",
        "Should ideally return a string that can recreate the object (if possible).\n",
        "\n",
        "__str__ (User-Friendly Representation)\n",
        "\n",
        "Goal → Readable / nicely formatted string for the end user.\n",
        "\n",
        "Called when you use:\n",
        "\n",
        "str(obj)\n",
        "\n",
        "print(obj) (if __str__ is defined)\n",
        "\n",
        "Q20. What is the significance of the ‘super()’ function in Python?\n",
        "Ans20 super() is used to call methods from a parent (or superclass) inside a child class.\n",
        "\n",
        "It avoids directly naming the parent class (like Parent.method(self)), making code more maintainable and safer with multiple inheritance.\n",
        "\n",
        "class Person:\n",
        "    def __init__(self, name):\n",
        "        self.name = name\n",
        "        print(\"Person initialized\")\n",
        "\n",
        "class Student(Person):\n",
        "    def __init__(self, name, student_id):\n",
        "        super().__init__(name)  # call Person's __init__\n",
        "        self.student_id = student_id\n",
        "        print(\"Student initialized\")\n",
        "\n",
        "s = Student(\"Aarsh\", 101)\n",
        "\n",
        "Q21.What is the significance of the __del__ method in Python?\n",
        "Ans21 t is called automatically when an object is about to be destroyed (i.e., when there are no more references to it).\n",
        "\n",
        "Used for cleanup tasks like closing files, releasing network connections, or freeing resources.\n",
        "\n",
        "Q22. What is the difference between @staticmethod and @classmethod in Python?\n",
        "Ans22 class MathUtils:\n",
        "    @staticmethod\n",
        "    def add(a, b):\n",
        "        return a + b\n",
        "\n",
        "# Can be called using class or object\n",
        "print(MathUtils.add(5, 3))   # 8\n",
        "m = MathUtils()\n",
        "print(m.add(10, 7))          # 17\n",
        "\n",
        "class Student:\n",
        "    school_name = \"CU\"\n",
        "\n",
        "    def __init__(self, name):\n",
        "        self.name = name\n",
        "\n",
        "    @classmethod\n",
        "    def change_school(cls, new_name):\n",
        "        cls.school_name = new_name   # modifies class variable\n",
        "\n",
        "# Access via class\n",
        "Student.change_school(\"IIT\")\n",
        "print(Student.school_name)  # IIT\n",
        "\n",
        "# Access via object\n",
        "s = Student(\"Aarsh\")\n",
        "s.change_school(\"NIT\")\n",
        "print(Student.school_name)  # NIT\n",
        "\n",
        "@staticmethod: No self, no cls → independent utility function.\n",
        "\n",
        "@classmethod: Uses cls → works with class variables and can create class objects.\n",
        "\n",
        "Q23.How does polymorphism work in Python with inheritance?\n",
        "Ans23 Polymorphism means “many forms” — the same method name can have different implementations depending on the object that calls it.\n",
        "\n",
        "When combined with inheritance:\n",
        "\n",
        "A child class overrides a method of the parent class.\n",
        "\n",
        "The same method call behaves differently depending on the object type.\n",
        "\n",
        "class Animal:\n",
        "    def sound(self):\n",
        "        print(\"Animals make sounds\")\n",
        "\n",
        "class Dog(Animal):\n",
        "    def sound(self):   # overriding\n",
        "        print(\"Dog barks\")\n",
        "\n",
        "class Cat(Animal):\n",
        "    def sound(self):   # overriding\n",
        "        print(\"Cat meows\")\n",
        "\n",
        "# Polymorphism in action\n",
        "animals = [Dog(), Cat(), Animal()]\n",
        "\n",
        "for a in animals:\n",
        "    a.sound()   # same method, different behavior\n",
        "\n",
        "\n",
        "Q24.What is method chaining in Python OOP?\n",
        "Ans 24 Method Chaining is a technique where you call multiple methods on the same object in a single line.\n",
        "\n",
        "Each method call returns the object itself (self), allowing the next method to be called.\n",
        "\n",
        "Makes code shorter and more readable.\n",
        "\n",
        "Q25.What is the purpose of the __call__ method in Python?\n",
        "Ans25 The __call__ method makes a Python object behave like a function.\n",
        "\n",
        "When defined inside a class, it allows you to call the object itself as if it were a function (obj()).\n",
        "\n",
        "It’s one way to make objects callable.\n",
        "class Greeter:\n",
        "    def __init__(self, name):\n",
        "        self.name = name\n",
        "\n",
        "    def __call__(self, greeting):\n",
        "        return f\"{greeting}, {self.name}!\"\n",
        "\n",
        "g = Greeter(\"Aarsh\")\n",
        "\n",
        "# Calling the object like a function\n",
        "print(g(\"Hello\"))\n",
        "print(g(\"Good morning\"))\n",
        "\n"
      ],
      "metadata": {
        "id": "2NN2gOjwJuDW"
      }
    },
    {
      "cell_type": "code",
      "source": [
        "#Practical Question\n"
      ],
      "metadata": {
        "id": "g6NGfDoSrQPy"
      },
      "execution_count": null,
      "outputs": []
    },
    {
      "cell_type": "code",
      "source": [
        "#Q1  Create a parent class Animal with a method speak() that prints a generic message. Create a child class Dogthat overrides the speak() method to print \"Bark!\".\n",
        "\n",
        "class Animal:\n",
        "    def speak(self):\n",
        "        print(\"Animal makes a sound\")\n",
        "\n",
        "# Child class\n",
        "class Dog(Animal):\n",
        "    def speak(self):   # overriding parent's method\n",
        "        print(\"Bark!\")\n",
        "\n",
        "# Testing\n",
        "a = Animal()\n",
        "a.speak()   # Animal makes a sound\n",
        "\n",
        "d = Dog()\n",
        "d.speak()   # Bark!"
      ],
      "metadata": {
        "colab": {
          "base_uri": "https://localhost:8080/"
        },
        "id": "YRdH7T4mrVpw",
        "outputId": "078b21d3-a4c5-489b-8b26-ac9982a047a1"
      },
      "execution_count": 1,
      "outputs": [
        {
          "output_type": "stream",
          "name": "stdout",
          "text": [
            "Animal makes a sound\n",
            "Bark!\n"
          ]
        }
      ]
    },
    {
      "cell_type": "code",
      "source": [
        "#Q2 Write a program to create an abstract class Shape with a method area(). Derive classes Circle and Rectangle from it and implement the area() method in both.\n",
        "\n",
        "from abc import ABC, abstractmethod\n",
        "import math\n",
        "\n",
        "# Abstract Class\n",
        "class Shape(ABC):\n",
        "    @abstractmethod\n",
        "    def area(self):\n",
        "        pass  # must be implemented in child classes\n",
        "\n",
        "# Derived Class: Circle\n",
        "class Circle(Shape):\n",
        "    def __init__(self, radius):\n",
        "        self.radius = radius\n",
        "\n",
        "    def area(self):\n",
        "        return math.pi * self.radius * self.radius\n",
        "\n",
        "# Derived Class: Rectangle\n",
        "class Rectangle(Shape):\n",
        "    def __init__(self, length, width):\n",
        "        self.length = length\n",
        "        self.width = width\n",
        "\n",
        "    def area(self):\n",
        "        return self.length * self.width\n",
        "\n",
        "# Testing\n",
        "shapes = [Circle(5), Rectangle(4, 6)]\n",
        "\n",
        "for shape in shapes:\n",
        "    print(f\"Area: {shape.area()}\")\n"
      ],
      "metadata": {
        "colab": {
          "base_uri": "https://localhost:8080/"
        },
        "id": "MXWMcF4prqOd",
        "outputId": "112cd660-6ca1-4974-e2ca-72b506ea26f0"
      },
      "execution_count": 2,
      "outputs": [
        {
          "output_type": "stream",
          "name": "stdout",
          "text": [
            "Area: 78.53981633974483\n",
            "Area: 24\n"
          ]
        }
      ]
    },
    {
      "cell_type": "code",
      "source": [
        "#Q3 3. Implement a multi-level inheritance scenario where a class Vehicle has an attribute type. Derive a class Car and further derive a class ElectricCar that adds a battery attribute.\n",
        "\n",
        "# Base class\n",
        "class Vehicle:\n",
        "    def __init__(self, vehicle_type):\n",
        "        self.vehicle_type = vehicle_type\n",
        "\n",
        "    def show_type(self):\n",
        "        print(f\"Vehicle Type: {self.vehicle_type}\")\n",
        "\n",
        "# Derived class\n",
        "class Car(Vehicle):\n",
        "    def __init__(self, vehicle_type, brand):\n",
        "        super().__init__(vehicle_type)   # call Vehicle constructor\n",
        "        self.brand = brand\n",
        "\n",
        "    def show_car(self):\n",
        "        print(f\"Car Brand: {self.brand}\")\n",
        "\n",
        "# Further derived class\n",
        "class ElectricCar(Car):\n",
        "    def __init__(self, vehicle_type, brand, battery_capacity):\n",
        "        super().__init__(vehicle_type, brand)  # call Car constructor\n",
        "        self.battery_capacity = battery_capacity\n",
        "\n",
        "    def show_details(self):\n",
        "        self.show_type()   # from Vehicle\n",
        "        self.show_car()    # from Car\n",
        "        print(f\"Battery Capacity: {self.battery_capacity} kWh\")\n",
        "\n",
        "# Testing\n",
        "e_car = ElectricCar(\"Four Wheeler\", \"Tesla\", 100)\n",
        "e_car.show_details()\n"
      ],
      "metadata": {
        "id": "REbuda-MsMM7"
      },
      "execution_count": null,
      "outputs": []
    },
    {
      "cell_type": "code",
      "source": [
        "#Q4  Demonstrate polymorphism by creating a base class Bird with a method fly(). Create two derived classes Sparrow and Penguin that override the fly() method.\n",
        "\n",
        "# Base class\n",
        "class Bird:\n",
        "    def fly(self):\n",
        "        print(\"Birds can fly (generic behavior)\")\n",
        "\n",
        "# Derived class 1\n",
        "class Sparrow(Bird):\n",
        "    def fly(self):\n",
        "        print(\"Sparrow flies high in the sky!\")\n",
        "\n",
        "# Derived class 2\n",
        "class Penguin(Bird):\n",
        "    def fly(self):\n",
        "        print(\"Penguins cannot fly, they swim instead!\")\n",
        "\n",
        "# Polymorphism in action\n",
        "birds = [Sparrow(), Penguin()]\n",
        "\n",
        "for bird in birds:\n",
        "    bird.fly()  # same method name, different behavior\n",
        "\n"
      ],
      "metadata": {
        "colab": {
          "base_uri": "https://localhost:8080/"
        },
        "id": "tgOlA-htsnKk",
        "outputId": "d41e6075-dcfa-4c48-89cf-d2b595dad8c6"
      },
      "execution_count": 3,
      "outputs": [
        {
          "output_type": "stream",
          "name": "stdout",
          "text": [
            "Sparrow flies high in the sky!\n",
            "Penguins cannot fly, they swim instead!\n"
          ]
        }
      ]
    },
    {
      "cell_type": "code",
      "source": [
        "#Q5  Write a program to demonstrate encapsulation by creating a class BankAccount with private attributes balance and methods to deposit, withdraw, and check balance.\n",
        "\n",
        "class BankAccount:\n",
        "    def __init__(self, initial_balance=0):\n",
        "        self.__balance = initial_balance   # private attribute\n",
        "\n",
        "    def deposit(self, amount):\n",
        "        if amount > 0:\n",
        "            self.__balance += amount\n",
        "            print(f\"Deposited: {amount}\")\n",
        "        else:\n",
        "            print(\"Deposit amount must be positive!\")\n",
        "\n",
        "    def withdraw(self, amount):\n",
        "        if 0 < amount <= self.__balance:\n",
        "            self.__balance -= amount\n",
        "            print(f\"Withdrew: {amount}\")\n",
        "        else:\n",
        "            print(\"Insufficient balance or invalid amount!\")\n",
        "\n",
        "    def get_balance(self):\n",
        "        return self.__balance   # controlled access to private variable\n",
        "\n",
        "# Testing\n",
        "account = BankAccount(500)\n",
        "\n",
        "account.deposit(200)       # Deposited: 200\n",
        "account.withdraw(100)      # Withdrew: 100\n",
        "print(\"Current Balance:\", account.get_balance())  # Current Balance: 600\n",
        "\n",
        "# Direct access (not allowed)\n",
        "# print(account.__balance)  #  AttributeError\n"
      ],
      "metadata": {
        "colab": {
          "base_uri": "https://localhost:8080/"
        },
        "id": "fs-pdudUs90T",
        "outputId": "c56bc243-aa78-4b4b-d11c-307667d662aa"
      },
      "execution_count": 4,
      "outputs": [
        {
          "output_type": "stream",
          "name": "stdout",
          "text": [
            "Deposited: 200\n",
            "Withdrew: 100\n",
            "Current Balance: 600\n"
          ]
        }
      ]
    },
    {
      "cell_type": "code",
      "source": [
        "#Q6  Demonstrate runtime polymorphism using a method play() in a base class Instrument. Derive classes Guitar and Piano that implement their own version of play().\n",
        "# Base class\n",
        "class Instrument:\n",
        "    def play(self):\n",
        "        print(\"Playing some instrument...\")\n",
        "\n",
        "# Derived class 1\n",
        "class Guitar(Instrument):\n",
        "    def play(self):\n",
        "        print(\"Strumming the guitar \")\n",
        "\n",
        "# Derived class 2\n",
        "class Piano(Instrument):\n",
        "    def play(self):\n",
        "        print(\"Playing the piano \")\n",
        "\n",
        "# Runtime polymorphism in action\n",
        "instruments = [Guitar(), Piano()]\n",
        "\n",
        "for instrument in instruments:\n",
        "    instrument.play()   # Same method call, different behavior\n"
      ],
      "metadata": {
        "colab": {
          "base_uri": "https://localhost:8080/"
        },
        "id": "pq-YMJABtc5Q",
        "outputId": "f16247b1-452a-49dd-8cca-43d7cf4f0192"
      },
      "execution_count": 5,
      "outputs": [
        {
          "output_type": "stream",
          "name": "stdout",
          "text": [
            "Strumming the guitar \n",
            "Playing the piano \n"
          ]
        }
      ]
    },
    {
      "cell_type": "code",
      "source": [
        "#Q7. Create a class MathOperations with a class method add_numbers() to add two numbers and a static method subtract_numbers() to subtract two numbers.\n",
        "\n",
        "class MathOperations:\n",
        "    @classmethod\n",
        "    def add_numbers(cls, a, b):\n",
        "        \"\"\"Class method: Has access to class via 'cls'\"\"\"\n",
        "        return a + b\n",
        "\n",
        "    @staticmethod\n",
        "    def subtract_numbers(a, b):\n",
        "        \"\"\"Static method: No access to class or instance\"\"\"\n",
        "        return a - b\n",
        "\n",
        "\n",
        "# Testing\n",
        "print(\"Addition:\", MathOperations.add_numbers(10, 5))     # 15\n",
        "print(\"Subtraction:\", MathOperations.subtract_numbers(10, 5))  # 5\n"
      ],
      "metadata": {
        "colab": {
          "base_uri": "https://localhost:8080/"
        },
        "id": "zh2xiedIt4tS",
        "outputId": "06245715-3ea1-4ccb-e2a9-16c9ec925af7"
      },
      "execution_count": 6,
      "outputs": [
        {
          "output_type": "stream",
          "name": "stdout",
          "text": [
            "Addition: 15\n",
            "Subtraction: 5\n"
          ]
        }
      ]
    },
    {
      "cell_type": "code",
      "source": [
        "#Q8.Implement a class Person with a class method to count the total number of persons created\n",
        "class Person:\n",
        "    # Class variable to count instances\n",
        "    total_persons = 0\n",
        "\n",
        "    def __init__(self, name):\n",
        "        self.name = name\n",
        "        Person.total_persons += 1   # increment count whenever a new person is created\n",
        "\n",
        "    # Class method to get total persons\n",
        "    @classmethod\n",
        "    def get_total_persons(cls):\n",
        "        return cls.total_persons\n",
        "\n",
        "\n",
        "# Testing\n",
        "p1 = Person(\"Aarsh\")\n",
        "p2 = Person(\"Rahul\")\n",
        "p3 = Person(\"Neha\")\n",
        "\n",
        "print(\"Total persons created:\", Person.get_total_persons())\n"
      ],
      "metadata": {
        "colab": {
          "base_uri": "https://localhost:8080/"
        },
        "id": "QmFV8iEUvPS4",
        "outputId": "844866f7-969d-422d-f1ed-b097751e9e23"
      },
      "execution_count": 7,
      "outputs": [
        {
          "output_type": "stream",
          "name": "stdout",
          "text": [
            "Total persons created: 3\n"
          ]
        }
      ]
    },
    {
      "cell_type": "code",
      "source": [
        "#Q9  Write a class Fraction with attributes numerator and denominator. Override the str method to display the fraction as \"numerator/denominator\".\n",
        "class Fraction:\n",
        "    def __init__(self, numerator, denominator):\n",
        "        self.numerator = numerator\n",
        "        self.denominator = denominator\n",
        "\n",
        "    def __str__(self):\n",
        "        return f\"{self.numerator}/{self.denominator}\"  # human-readable format\n",
        "\n",
        "# Testing\n",
        "f1 = Fraction(3, 4)\n",
        "f2 = Fraction(5, 8)\n",
        "\n",
        "print(f1)  # 3/4\n",
        "print(f2)  # 5/8\n"
      ],
      "metadata": {
        "colab": {
          "base_uri": "https://localhost:8080/"
        },
        "id": "cjEHqoqgwBSd",
        "outputId": "7513fec7-7953-4ea4-f004-0af07526dd7d"
      },
      "execution_count": 8,
      "outputs": [
        {
          "output_type": "stream",
          "name": "stdout",
          "text": [
            "3/4\n",
            "5/8\n"
          ]
        }
      ]
    },
    {
      "cell_type": "code",
      "source": [
        "#Q10  Demonstrate operator overloading by creating a class Vector and overriding the add method to add two vectors\n",
        "\n",
        "class Vector:\n",
        "    def __init__(self, x, y):\n",
        "        self.x = x\n",
        "        self.y = y\n",
        "\n",
        "    # Override + operator\n",
        "    def __add__(self, other):\n",
        "        return Vector(self.x + other.x, self.y + other.y)\n",
        "\n",
        "    # For a nice string representation\n",
        "    def __str__(self):\n",
        "        return f\"({self.x}, {self.y})\"\n",
        "\n",
        "# Testing\n",
        "v1 = Vector(3, 5)\n",
        "v2 = Vector(4, 7)\n",
        "\n",
        "v3 = v1 + v2  # Calls v1.__add__(v2)\n",
        "print(\"v1 + v2 =\", v3)\n"
      ],
      "metadata": {
        "colab": {
          "base_uri": "https://localhost:8080/"
        },
        "id": "xa67VLH7whP1",
        "outputId": "fee2cab7-c35f-42f5-8618-78da78af9516"
      },
      "execution_count": 9,
      "outputs": [
        {
          "output_type": "stream",
          "name": "stdout",
          "text": [
            "v1 + v2 = (7, 12)\n"
          ]
        }
      ]
    },
    {
      "cell_type": "code",
      "source": [
        "#Q11  Create a class Person with attributes name and age. Add a method greet() that prints \"Hello, my name is {name} and I am {age} years old.\"\n",
        "\n",
        "class Person:\n",
        "    def __init__(self, name, age):\n",
        "        self.name = name\n",
        "        self.age = age\n",
        "\n",
        "    def greet(self):\n",
        "         print(f\"Hello, my name is {self.name} and I am {self.age} years old.\")\n",
        "\n",
        "# Testing\n",
        "p1 = Person(\"Aarsh\", 22)\n",
        "p1.greet()\n",
        "\n",
        "p2 = Person(\"Neha\", 25)\n",
        "p2.greet()\n"
      ],
      "metadata": {
        "colab": {
          "base_uri": "https://localhost:8080/"
        },
        "id": "4xtGXaAQxM0u",
        "outputId": "d768b912-a988-42c6-954e-a12a20b286d4"
      },
      "execution_count": 10,
      "outputs": [
        {
          "output_type": "stream",
          "name": "stdout",
          "text": [
            "Hello, my name is Aarsh and I am 22 years old.\n",
            "Hello, my name is Neha and I am 25 years old.\n"
          ]
        }
      ]
    },
    {
      "cell_type": "code",
      "source": [
        "#Q12  Implement a class Student with attributes name and grades. Create a method average_grade() to compute the average of the grades.\n",
        "\n",
        "class Student:\n",
        "    def __init__(self, name, grades):\n",
        "        self.name = name\n",
        "        self.grades = grades  # a list of numbers\n",
        "\n",
        "    def average_grade(self):\n",
        "        if not self.grades:\n",
        "            return 0  # handle empty list\n",
        "        return sum(self.grades) / len(self.grades)\n",
        "\n",
        "# Testing\n",
        "s1 = Student(\"Aarsh\", [85, 90, 78])\n",
        "s2 = Student(\"Neha\", [92, 88, 79, 95])\n",
        "\n",
        "print(f\"{s1.name}'s average grade: {s1.average_grade():.2f}\")\n",
        "print(f\"{s2.name}'s average grade: {s2.average_grade():.2f}\")\n"
      ],
      "metadata": {
        "colab": {
          "base_uri": "https://localhost:8080/"
        },
        "id": "1-vc1yD0xoOw",
        "outputId": "53fa2b20-354d-4c21-fab0-d2c5399a7d3b"
      },
      "execution_count": 12,
      "outputs": [
        {
          "output_type": "stream",
          "name": "stdout",
          "text": [
            "Aarsh's average grade: 84.33\n",
            "Neha's average grade: 88.50\n"
          ]
        }
      ]
    },
    {
      "cell_type": "code",
      "source": [
        "#Q13 Create a class Rectangle with methods set_dimensions() to set the dimensions and area() to calculate the area.\n",
        "\n",
        "class Rectangle:\n",
        "    def __init__(self):\n",
        "        self.length = 0\n",
        "        self.width = 0\n",
        "\n",
        "    def set_dimensions(self, length, width):\n",
        "        self.length = length\n",
        "        self.width = width\n",
        "\n",
        "    def area(self):\n",
        "        return self.length * self.width\n",
        "\n",
        "# Testing\n",
        "rect = Rectangle()\n",
        "rect.set_dimensions(5, 10)\n",
        "print(\"Area of rectangle:\", rect.area())\n"
      ],
      "metadata": {
        "colab": {
          "base_uri": "https://localhost:8080/"
        },
        "id": "mVXnvPceyRsx",
        "outputId": "32e07963-43e9-404e-aac0-5f71c8f452a1"
      },
      "execution_count": 13,
      "outputs": [
        {
          "output_type": "stream",
          "name": "stdout",
          "text": [
            "Area of rectangle: 50\n"
          ]
        }
      ]
    },
    {
      "cell_type": "code",
      "source": [
        "#Q14 Create a class Employee with a method calculate_salary() that computes the salary based on hours worked and hourly rate. Create a derived class Manager that adds a bonus to the salary\n",
        "\n",
        "# Base class\n",
        "class Employee:\n",
        "    def __init__(self, name, hours_worked, hourly_rate):\n",
        "        self.name = name\n",
        "        self.hours_worked = hours_worked\n",
        "        self.hourly_rate = hourly_rate\n",
        "\n",
        "    def calculate_salary(self):\n",
        "        return self.hours_worked * self.hourly_rate\n",
        "\n",
        "# Derived class\n",
        "class Manager(Employee):\n",
        "    def __init__(self, name, hours_worked, hourly_rate, bonus):\n",
        "        super().__init__(name, hours_worked, hourly_rate)\n",
        "        self.bonus = bonus\n",
        "\n",
        "    # Override calculate_salary to include bonus\n",
        "    def calculate_salary(self):\n",
        "        base_salary = super().calculate_salary()\n",
        "        return base_salary + self.bonus\n",
        "\n",
        "# Testing\n",
        "e = Employee(\"Aarsh\", 40, 20)\n",
        "m = Manager(\"Neha\", 40, 20, 500)\n",
        "\n",
        "print(f\"{e.name}'s salary: ${e.calculate_salary()}\")\n",
        "print(f\"{m.name}'s salary: ${m.calculate_salary()}\")\n"
      ],
      "metadata": {
        "colab": {
          "base_uri": "https://localhost:8080/"
        },
        "id": "VfOuzrCayjCR",
        "outputId": "0bfb3570-8a43-439c-e6ac-b43945b07b08"
      },
      "execution_count": 14,
      "outputs": [
        {
          "output_type": "stream",
          "name": "stdout",
          "text": [
            "Aarsh's salary: $800\n",
            "Neha's salary: $1300\n"
          ]
        }
      ]
    },
    {
      "cell_type": "code",
      "source": [
        "#Q15  Create a class Product with attributes name, price, and quantity. Implement a method total_price() that calculates the total price of the product.\n",
        "class Product:\n",
        "    def __init__(self, name, price, quantity):\n",
        "        self.name = name\n",
        "        self.price = price\n",
        "        self.quantity = quantity\n",
        "\n",
        "    def total_price(self):\n",
        "        return self.price * self.quantity\n",
        "\n",
        "# Testing\n",
        "p1 = Product(\"Laptop\", 500, 2)\n",
        "p2 = Product(\"Mouse\", 20, 5)\n",
        "\n",
        "print(f\"Total price of {p1.name}: ${p1.total_price()}\")\n",
        "print(f\"Total price of {p2.name}: ${p2.total_price()}\")\n"
      ],
      "metadata": {
        "colab": {
          "base_uri": "https://localhost:8080/"
        },
        "id": "7HVvjg3Vyy1Z",
        "outputId": "70802f8f-c50d-4347-cee1-e4ded93b0b71"
      },
      "execution_count": 15,
      "outputs": [
        {
          "output_type": "stream",
          "name": "stdout",
          "text": [
            "Total price of Laptop: $1000\n",
            "Total price of Mouse: $100\n"
          ]
        }
      ]
    },
    {
      "cell_type": "code",
      "source": [
        "#Q16 Create a class Animal with an abstract method sound(). Create two derived classes Cow and Sheep that implement the sound() method.\n",
        "\n",
        "from abc import ABC, abstractmethod\n",
        "\n",
        "# Abstract class\n",
        "class Animal(ABC):\n",
        "    @abstractmethod\n",
        "    def sound(self):\n",
        "        pass  # must be implemented by subclasses\n",
        "\n",
        "# Derived class 1\n",
        "class Cow(Animal):\n",
        "    def sound(self):\n",
        "        print(\"Moo!\")\n",
        "\n",
        "# Derived class 2\n",
        "class Sheep(Animal):\n",
        "    def sound(self):\n",
        "        print(\"Baa!\")\n",
        "\n",
        "# Testing\n",
        "animals = [Cow(), Sheep()]\n",
        "\n",
        "for animal in animals:\n",
        "    animal.sound()  # calls the overridden method\n"
      ],
      "metadata": {
        "colab": {
          "base_uri": "https://localhost:8080/"
        },
        "id": "llhVDuJkzJ7p",
        "outputId": "9814e921-602d-49fe-8bad-cc14142e7277"
      },
      "execution_count": 16,
      "outputs": [
        {
          "output_type": "stream",
          "name": "stdout",
          "text": [
            "Moo!\n",
            "Baa!\n"
          ]
        }
      ]
    },
    {
      "cell_type": "code",
      "source": [
        "#Q17 Create a class Book with attributes title, author, and year_published. Add a method get_book_info() that returns a formatted string with the book's details.\n",
        "\n",
        "class Book:\n",
        "    def __init__(self, title, author, year_published):\n",
        "        self.title = title\n",
        "        self.author = author\n",
        "        self.year_published = year_published\n",
        "\n",
        "    def get_book_info(self):\n",
        "        return f\"'{self.title}' by {self.author}, published in {self.year_published}\"\n",
        "\n",
        "# Testing\n",
        "b1 = Book(\"Python Programming\", \"Mark Lutz\", 2013)\n",
        "b2 = Book(\"Clean Code\", \"Robert C. Martin\", 2008)\n",
        "\n",
        "print(b1.get_book_info())\n",
        "print(b2.get_book_info())\n"
      ],
      "metadata": {
        "colab": {
          "base_uri": "https://localhost:8080/"
        },
        "id": "kG4298zazZOj",
        "outputId": "5d40137e-7130-4b72-fa6c-d9d2f65416b0"
      },
      "execution_count": 18,
      "outputs": [
        {
          "output_type": "stream",
          "name": "stdout",
          "text": [
            "'Python Programming' by Mark Lutz, published in 2013\n",
            "'Clean Code' by Robert C. Martin, published in 2008\n"
          ]
        }
      ]
    },
    {
      "cell_type": "code",
      "source": [
        "#Q18  Create a class House with attributes address and price. Create a derived class Mansion that adds an attribute number_of_rooms.\n",
        "\n",
        "# Base class\n",
        "class House:\n",
        "    def __init__(self, address, price):\n",
        "        self.address = address\n",
        "        self.price = price\n",
        "\n",
        "    def show_info(self):\n",
        "        print(f\"Address: {self.address}, Price: ${self.price}\")\n",
        "\n",
        "# Derived class\n",
        "class Mansion(House):\n",
        "    def __init__(self, address, price, number_of_rooms):\n",
        "        super().__init__(address, price)  # call parent constructor\n",
        "        self.number_of_rooms = number_of_rooms\n",
        "\n",
        "    def show_info(self):\n",
        "        super().show_info()\n",
        "        print(f\"Number of Rooms: {self.number_of_rooms}\")\n",
        "\n",
        "# Testing\n",
        "h1 = House(\"123 Main St\", 250000)\n",
        "m1 = Mansion(\"456 Luxury Ave\", 1500000, 10)\n",
        "\n",
        "h1.show_info()\n",
        "print()\n",
        "m1.show_info()\n"
      ],
      "metadata": {
        "colab": {
          "base_uri": "https://localhost:8080/"
        },
        "id": "G_abbC2gznxk",
        "outputId": "72ce38f1-e963-4e23-e081-9c0984324415"
      },
      "execution_count": 19,
      "outputs": [
        {
          "output_type": "stream",
          "name": "stdout",
          "text": [
            "Address: 123 Main St, Price: $250000\n",
            "\n",
            "Address: 456 Luxury Ave, Price: $1500000\n",
            "Number of Rooms: 10\n"
          ]
        }
      ]
    }
  ]
}