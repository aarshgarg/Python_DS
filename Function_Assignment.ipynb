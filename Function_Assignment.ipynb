{
  "nbformat": 4,
  "nbformat_minor": 0,
  "metadata": {
    "colab": {
      "provenance": []
    },
    "kernelspec": {
      "name": "python3",
      "display_name": "Python 3"
    },
    "language_info": {
      "name": "python"
    }
  },
  "cells": [
    {
      "cell_type": "code",
      "execution_count": null,
      "metadata": {
        "id": "oMXYLt988YOG"
      },
      "outputs": [],
      "source": []
    },
    {
      "cell_type": "markdown",
      "source": [
        "Function Theory Questions"
      ],
      "metadata": {
        "id": "6IoG6Myc8ooy"
      }
    },
    {
      "cell_type": "markdown",
      "source": [
        "Q1. What is the difference between a function and a method in Python?\n",
        "Ans1 A function in Python is a block of reusable code that performs a task.It is defined using def (or sometimes lambda).It can exist independently, outside of any class.You call it directly by its name.\n",
        "\n",
        "A method is essentially a function that belongs to an object (class instance).\n",
        "It is defined inside a class.It automatically takes the instance (self) as its first parameter (unless it’s a @staticmethod).You call it using the object (or class) it belongs to.\n",
        "\n",
        "Q2.Explain the concept of function arguments and parameters in Python?\n",
        "Ans2 Parameters:-\n",
        "Parameters are the names listed in the function definition.They act like placeholders for the values the function will receive.\n",
        "def greet(name, age):   # 'name' and 'age' are PARAMETERS\n",
        "    print(f\"Hello {name}, you are {age} years old.\")\n",
        "Arguement:-\n",
        "Arguments are the actual values you pass to the function when calling it.\n",
        "greet(\"Aarsh\", 24)\n",
        "\n",
        "Q3. What are the different ways to define and call a function in Python?\n",
        "Ans3.Standard Function (using def)\n",
        "def greet(name):\n",
        "    return f\"Hello, {name}!\"\n",
        "\n",
        "Function with Default Parameters:-\n",
        "def greet(name=\"Guest\"):\n",
        "    return f\"Hello, {name}!\"\n",
        "\n",
        "Function with Variable-Length Arguments:-\n",
        "*args → multiple positional arguments\n",
        "**kwargs → multiple keyword arguments    \n",
        "\n",
        "Lambda Function (Anonymous Function)\n",
        "\n",
        "Used for short, single-line functions.\n",
        "\n",
        "square = lambda x: x * x\n",
        "\n",
        " Nested Function\n",
        "\n",
        "Define a function inside another function.\n",
        "\n",
        "def outer():\n",
        "    def inner():\n",
        "        return \"Hello from inner!\"\n",
        "    return inner()\n",
        "\n",
        "Recursive Function\n",
        "\n",
        "A function that calls itself.\n",
        "\n",
        "def factorial(n):\n",
        "    if n == 0 or n == 1:\n",
        "        return 1\n",
        "    return n * factorial(n-1)\n",
        "\n",
        "Q4.What is the purpose of the `return` statement in a Python function?\n",
        "Ans4 The return statement is used in a function to send a value (or multiple values) back to the caller of the function.\n",
        "It essentially decides what the function “gives back” after finishing its work.\n",
        "\n",
        "def add(a, b):\n",
        "    return a + b\n",
        "\n",
        "result = add(5, 10)\n",
        "print(result)   # 15\n",
        "\n",
        "\n",
        "Returning Nothing (None)\n",
        "\n",
        "If a function has no return, or just return without a value → it automatically returns None.\n",
        "\n",
        "def greet(name):\n",
        "    print(f\"Hello {name}!\")\n",
        "\n",
        "result = greet(\"Aarsh\")\n",
        "print(result)   # None\n",
        "\n",
        "Q5.What are iterators in Python and how do they differ from iterables?\n",
        "Ans5 Iterable = Collection you can loop through.\n",
        "\n",
        "Iterator = The object that does the actual looping, keeping track of where you are.\n",
        "\n",
        "Q6.Explain the concept of generators in Python and how they are defined?\n",
        "Ans6. A generator is a special type of iterator in Python.\n",
        "Instead of storing all values in memory (like lists), it generates values on the fly when you iterate over it.Saves memory and is efficient for working with large datasets or infinite sequences.\n",
        "\n",
        "How to Define a Generator\n",
        "\n",
        "There are two main ways:\n",
        "\n",
        "(a) Using a Function with yield\n",
        "\n",
        "A normal function uses return (ends function).\n",
        "\n",
        "A generator function uses yield (pauses function, returns a value, and resumes later).\n",
        "\n",
        "def count_up_to(n):\n",
        "    i = 1\n",
        "    while i <= n:\n",
        "        yield i   # yields value instead of returning\n",
        "        i += 1\n",
        "\n",
        "gen = count_up_to(5)   # generator object\n",
        "print(next(gen))  # 1\n",
        "print(next(gen))  # 2\n",
        "print(list(gen))  # [3, 4, 5] (remaining values)\n",
        "\n",
        "Q7.What are the advantages of using generators over regular functions?\n",
        "Ans7 Memory Efficiency\n",
        "\n",
        "Regular functions that return lists (or other collections) store all results in memory at once.Generators yield one item at a time, so they don’t need to store the entire sequence.Perfect for large datasets or even infinite sequences.\n",
        "\n",
        "def squares_list(n):\n",
        "    return [x*x for x in range(n)]   # stores ALL values\n",
        "\n",
        "def squares_gen(n):\n",
        "    for x in range(n):\n",
        "        yield x*x   # yields one value at a time\n",
        "\n",
        "Generators produce values only when needed.Useful when you don’t always need the entire result.\n",
        "\n",
        "gen = (x*x for x in range(1_000_000))\n",
        "print(next(gen))  # computes only first square\n",
        "\n",
        "Q8.8. What is a lambda function in Python and when is it typically used?\n",
        "Ans8. A lambda function is a small, anonymous function in Python.Defined using the keyword lambda instead of def.Can take any number of arguments but must have a single expression (no multiple statements).That expression is automatically returned (no need to write return).\n",
        "\n",
        "square = lambda x: x * x\n",
        "print(square(5))   # 25\n",
        "\n",
        "Q9. Explain the purpose and usage of the `map()` function in Python?\n",
        "Ans9. The map() function is used to apply a function to each item of an iterable (like a list, tuple, set, etc.) and return a new map object (which is an iterator).\n",
        "It transforms each element of an iterable using a function.\n",
        "nums = [1, 2, 3, 4]\n",
        "squares = map(lambda x: x*x, nums)\n",
        "print(list(squares))   # [1, 4, 9, 16]\n",
        "\n",
        "Q10.What is the difference between `map()`, `reduce()`, and `filter()` functions in Python?\n",
        "Ans10. map()\n",
        "\n",
        "Purpose: Applies a function to each item of an iterable and returns a new iterator.\n",
        "\n",
        "Think: Transform every element.\n",
        "\n",
        "nums = [1, 2, 3, 4]\n",
        "squares = list(map(lambda x: x*x, nums))\n",
        "print(squares)   # [1, 4, 9, 16]\n",
        "\n",
        "filter()\n",
        "\n",
        "Purpose: Applies a function (that returns True/False) to each item and returns only the items for which the function is True.\n",
        "\n",
        "Think: Pick only the elements that match a condition.\n",
        "\n",
        "nums = [10, 15, 20, 25]\n",
        "evens = list(filter(lambda x: x % 2 == 0, nums))\n",
        "print(evens)   # [10,20]\n",
        "\n",
        "reduce() (in functools module)\n",
        "\n",
        "Purpose: Applies a function cumulatively to the items of an iterable, reducing it to a single value.\n",
        "\n",
        "Think: Roll everything into one result.\n",
        "\n",
        "from functools import reduce\n",
        "\n",
        "nums = [1, 2, 3, 4]\n",
        "product = reduce(lambda x, y: x * y, nums)\n",
        "print(product)   # 24  ( (((1*2)*3)*4) )\n",
        "\n",
        "Q11.Using pen & Paper write the internal mechanism for sum operation using reduce function on this given list:[47,11,42,13]\n",
        "Ans11 reduce(lambda x, y: x + y, [47, 11, 42, 13]) = 113\n",
        "\n",
        "Step\tx\ty\tOperation\tResult\n",
        "1\t47\t11\t47 + 11\t58\n",
        "2\t58\t42\t58 + 42\t100\n",
        "3\t100\t13\t100 + 13\t113\n",
        "\n",
        "\n"
      ],
      "metadata": {
        "id": "aFOGajze8dcb"
      }
    },
    {
      "cell_type": "code",
      "source": [],
      "metadata": {
        "id": "YUddgabUIKRP"
      },
      "execution_count": null,
      "outputs": []
    },
    {
      "cell_type": "markdown",
      "source": [
        "Practical Questions"
      ],
      "metadata": {
        "id": "jJRgATVRIebV"
      }
    },
    {
      "cell_type": "code",
      "source": [
        "#Q1  Write a Python function that takes a list of numbers as input and returns the sum of all even numbers in the list.\n",
        "\n",
        "def sum_even_numbers(numbers):\n",
        "    sum_even = 0\n",
        "    for num in numbers:\n",
        "        if num % 2 == 0:\n",
        "            sum_even += num\n",
        "    return sum_even\n",
        "\n",
        "\n",
        "print(sum_even_numbers((1, 2, 3, 4, 5, 6)))"
      ],
      "metadata": {
        "colab": {
          "base_uri": "https://localhost:8080/"
        },
        "id": "FKRz71QaIhV3",
        "outputId": "937c35f3-562c-4613-ab53-9d5678394d76"
      },
      "execution_count": 3,
      "outputs": [
        {
          "output_type": "stream",
          "name": "stdout",
          "text": [
            "12\n"
          ]
        }
      ]
    },
    {
      "cell_type": "code",
      "source": [
        "#Q2.Create a Python function that accepts a string and returns the reverse of that string?\n",
        "\n",
        "def reverse_string(string):\n",
        "    return string[::-1]\n",
        "\n",
        "\n",
        "print(reverse_string(\"Aarsh\"))"
      ],
      "metadata": {
        "colab": {
          "base_uri": "https://localhost:8080/"
        },
        "id": "DCx6OinpJEi2",
        "outputId": "4db7d9c4-e39a-4eac-a646-dc27cc229184"
      },
      "execution_count": 4,
      "outputs": [
        {
          "output_type": "stream",
          "name": "stdout",
          "text": [
            "hsraA\n"
          ]
        }
      ]
    },
    {
      "cell_type": "code",
      "source": [
        "#Q3. Implement a Python function that takes a list of integers and returns a new list containing the squares of each number?\n",
        "\n",
        "def square_list(numbers):\n",
        "    squares = []\n",
        "    for num in numbers:\n",
        "        squares.append(num * num)   # or num**2\n",
        "    return squares\n",
        "\n",
        "\n",
        "print(square_list([1, 2, 3, 4, 5]))"
      ],
      "metadata": {
        "colab": {
          "base_uri": "https://localhost:8080/"
        },
        "id": "GiW_38MvJQyt",
        "outputId": "493e4174-54b1-43f5-b2b9-e6f8b6b299e7"
      },
      "execution_count": 5,
      "outputs": [
        {
          "output_type": "stream",
          "name": "stdout",
          "text": [
            "[1, 4, 9, 16, 25]\n"
          ]
        }
      ]
    },
    {
      "cell_type": "code",
      "source": [
        "#Q4. Write a Python function that checks if a given number is prime or not from 1 to 200?\n",
        "\n",
        "\n",
        "def is_prime(n):\n",
        "    if n <= 1:\n",
        "        return False\n",
        "    for i in range(2, int(n**0.5) + 1):\n",
        "        if n % i == 0:\n",
        "            return False\n",
        "    return True\n",
        "for num in range(1, 201):\n",
        "    if is_prime(num):\n",
        "        print(num, end=\" \")\n",
        "\n"
      ],
      "metadata": {
        "colab": {
          "base_uri": "https://localhost:8080/"
        },
        "id": "P8mS2Cv7KEIU",
        "outputId": "760fd186-47c7-4965-d6a7-c12546f2736b"
      },
      "execution_count": 6,
      "outputs": [
        {
          "output_type": "stream",
          "name": "stdout",
          "text": [
            "2 3 5 7 11 13 17 19 23 29 31 37 41 43 47 53 59 61 67 71 73 79 83 89 97 101 103 107 109 113 127 131 137 139 149 151 157 163 167 173 179 181 191 193 197 199 "
          ]
        }
      ]
    },
    {
      "cell_type": "code",
      "source": [
        "#Q5. Create an iterator class in Python that generates the Fibonacci sequence up to a specified number of terms?\n",
        "\n",
        "class Fibonacci:\n",
        "    def __init__(self, n_terms):\n",
        "        self.n_terms = n_terms   # total number of terms to generate\n",
        "        self.count = 0           # current position\n",
        "        self.a = 0               # first Fibonacci number\n",
        "        self.b = 1               # second Fibonacci number\n",
        "\n",
        "    def __iter__(self):\n",
        "        return self\n",
        "\n",
        "    def __next__(self):\n",
        "        if self.count >= self.n_terms:\n",
        "            raise StopIteration  # stop iteration when count exceeds n_terms\n",
        "\n",
        "        if self.count == 0:\n",
        "            self.count += 1\n",
        "            return self.a\n",
        "        elif self.count == 1:\n",
        "            self.count += 1\n",
        "            return self.b\n",
        "        else:\n",
        "            self.a, self.b = self.b, self.a + self.b\n",
        "            self.count += 1\n",
        "            return self.b\n",
        "\n",
        "fib = Fibonacci(10)  # generate first 10 Fibonacci numbers\n",
        "\n",
        "for num in fib:\n",
        "    print(num, end=\" \")"
      ],
      "metadata": {
        "colab": {
          "base_uri": "https://localhost:8080/"
        },
        "id": "dGOaS4t1LGbx",
        "outputId": "abcd2980-dc4c-4d4d-89c7-1d4f6cd2e2a5"
      },
      "execution_count": 7,
      "outputs": [
        {
          "output_type": "stream",
          "name": "stdout",
          "text": [
            "0 1 1 2 3 5 8 13 21 34 "
          ]
        }
      ]
    },
    {
      "cell_type": "code",
      "source": [
        "#Q6.Write a generator function in Python that yields the powers of 2 up to a given exponent.\n",
        "\n",
        "def powers_of_2(exponent):\n",
        "    for i in range(exponent + 1):\n",
        "        yield 2 ** i\n",
        "\n",
        "\n",
        "for power in powers_of_2(5):\n",
        "    print(power)\n",
        "\n"
      ],
      "metadata": {
        "colab": {
          "base_uri": "https://localhost:8080/"
        },
        "id": "Oa-KLFu_LtN6",
        "outputId": "1d0e703f-0eee-4061-8fe5-4453647e8d2c"
      },
      "execution_count": 8,
      "outputs": [
        {
          "output_type": "stream",
          "name": "stdout",
          "text": [
            "1\n",
            "2\n",
            "4\n",
            "8\n",
            "16\n",
            "32\n"
          ]
        }
      ]
    },
    {
      "cell_type": "code",
      "source": [
        "#Q7. Implement a generator function that reads a file line by line and yields each line as a string?\n",
        "\n",
        "def read_file_lines(file_path):\n",
        "    with open(file_path, 'r') as file:\n",
        "        for line in file:\n",
        "            yield line.strip()\n",
        "\n",
        "file_path = \"example.txt\"\n",
        "\n",
        "for line in read_file_lines(file_path):\n",
        "    print(line)\n",
        "\n"
      ],
      "metadata": {
        "id": "vEr0Fy0hMJKf"
      },
      "execution_count": 9,
      "outputs": []
    },
    {
      "cell_type": "code",
      "source": [
        "#Q8. Use a lambda function in Python to sort a list of tuples based on the second element of each tuple.\n",
        "\n",
        "data = [(1, 5), (3, 2), (2, 8), (4, 1)]\n",
        "\n",
        "sorted_data = sorted(data, key=lambda x: x[1])\n",
        "\n",
        "print(sorted_data)"
      ],
      "metadata": {
        "colab": {
          "base_uri": "https://localhost:8080/"
        },
        "id": "IhWUZlLMM1k7",
        "outputId": "954670d3-61d5-4369-d13e-43b898017667"
      },
      "execution_count": 10,
      "outputs": [
        {
          "output_type": "stream",
          "name": "stdout",
          "text": [
            "[(4, 1), (3, 2), (1, 5), (2, 8)]\n"
          ]
        }
      ]
    },
    {
      "cell_type": "code",
      "source": [
        "#Q9.Write a Python program that uses `map()` to convert a list of temperatures from Celsius to Fahrenheit.\n",
        "\n",
        "celsius_temperatures = [0, 10, 20, 30, 40]\n",
        "\n",
        "fahrenheit_temperatures = list(map(lambda c: (c * 9/5) + 32, celsius_temperatures))\n",
        "\n",
        "print(fahrenheit_temperatures)"
      ],
      "metadata": {
        "colab": {
          "base_uri": "https://localhost:8080/"
        },
        "id": "idJpHQFtNWv1",
        "outputId": "47d8c42e-927c-4a3e-d16c-6a8b0c6302ee"
      },
      "execution_count": 13,
      "outputs": [
        {
          "output_type": "stream",
          "name": "stdout",
          "text": [
            "[32.0, 50.0, 68.0, 86.0, 104.0]\n"
          ]
        }
      ]
    },
    {
      "cell_type": "code",
      "source": [
        "#Q10.  Create a Python program that uses `filter()` to remove all the vowels from a given string.\n",
        "\n",
        "def remove_vowels(s):\n",
        "    vowels = \"aeiouAEIOU\"\n",
        "    # Keep only characters that are NOT vowels\n",
        "    return ''.join(filter(lambda char: char not in vowels, s))\n",
        "\n",
        "# Example usage\n",
        "text = \"Hello, Python!\"\n",
        "result = remove_vowels(text)\n",
        "print(result)"
      ],
      "metadata": {
        "colab": {
          "base_uri": "https://localhost:8080/"
        },
        "id": "g8dZ0_suNtKX",
        "outputId": "1a916d8a-9473-4002-8b5b-e26a17d8c3de"
      },
      "execution_count": 14,
      "outputs": [
        {
          "output_type": "stream",
          "name": "stdout",
          "text": [
            "Hll, Pythn!\n"
          ]
        }
      ]
    },
    {
      "cell_type": "code",
      "source": [
        "#Q11.  Imagine an accounting routine used in a book shop. It works on a list with sublists, which look like this:\n",
        "\n",
        "\n",
        "\n",
        "\n",
        "\n",
        "\n",
        "\n",
        "# Write a Python program, which returns a list with 2-tuples. Each tuple consists of the order number and the\n",
        "# product of the price per item and the quantity. The product should be increased by 10,- € if the value of the\n",
        "# order is smaller than 100,00 €.\n",
        "\n",
        "# Write a Python program using lambda and map.\n",
        "\n",
        "\n",
        "orders = [\n",
        "    [34587, \"Learning Python, Mark Lutz\", 4, 40.95],\n",
        "    [98762, \"Programming Python, Mark Lutz\", 3, 56.80],\n",
        "    [77226, \"Head First Python, Paul Barry\", 5, 32.95],\n",
        "    [88112, \"Einführung in Python3, Bernd Klein\", 3, 24.99]\n",
        "]\n",
        "\n",
        "# Using map + lambda\n",
        "result = list(map(lambda order: (\n",
        "    order[0],\n",
        "    order[2] * order[3] if order[2] * order[3] >= 100 else order[2] * order[3] + 10\n",
        "), orders))\n",
        "\n",
        "print(result)\n",
        "\n"
      ],
      "metadata": {
        "colab": {
          "base_uri": "https://localhost:8080/"
        },
        "id": "J5o-_2IrOCeK",
        "outputId": "bc250bc2-872c-45ed-849e-d09e11fca3be"
      },
      "execution_count": 15,
      "outputs": [
        {
          "output_type": "stream",
          "name": "stdout",
          "text": [
            "[(34587, 163.8), (98762, 170.39999999999998), (77226, 164.75), (88112, 84.97)]\n"
          ]
        }
      ]
    }
  ]
}